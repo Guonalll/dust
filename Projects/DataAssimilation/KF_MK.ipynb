{
 "cells": [
  {
   "cell_type": "markdown",
   "metadata": {},
   "source": [
    "This notebook explains classical KF and give a simple example\n",
    "The code is adapted from here: https://arxiv.org/ftp/arxiv/papers/1204/1204.0375.pdf\n",
    "And here: https://stackoverflow.com/questions/13901997/kalman-2d-filter-in-python"
   ]
  },
  {
   "cell_type": "code",
   "execution_count": 2,
   "metadata": {},
   "outputs": [],
   "source": [
    "import numpy as np\n",
    "%matplotlib inline\n",
    "import matplotlib.pyplot as plt"
   ]
  },
  {
   "cell_type": "code",
   "execution_count": 3,
   "metadata": {},
   "outputs": [],
   "source": [
    "\"\"\"\n",
    "First, let's define the predict and update algorithms for the Kalman filter. \n",
    "If you need to read the equations, refer to https://en.wikipedia.org/wiki/Kalman_filter\n",
    "\n",
    "   Parameters:\n",
    "        x: initial state\n",
    "        P: initial uncertainty coveriance matrix\n",
    "        measurement: observed postion (same shape as H*x)\n",
    "        R: measurement noise (same shape as H)\n",
    "        motion: external motion added to state vector x\n",
    "        Q: motion noise (same shape as P)\n",
    "        A: next state function: x_prime = F*x (n x n matrix)\n",
    "        B: The input effect matrix (n x 1)\n",
    "        H: measurement function: position z=H*x\n",
    "        \n",
    "        Return: the updated and predicted new values for (x,P)\n",
    "    \"\"\"\n",
    "def kf_predict(X,P,A,Q,B,U):\n",
    "    X = np.dot(A,X) + np.dot(B,U) #predict the state (a piori)\n",
    "    P = np.dot(A, np.dot(P,A.T)) +Q  #estimate the covariance matrix (a piori)\n",
    "    return(X,P)\n",
    "    \n",
    "def kf_update(X,P,Y,H,R):\n",
    "    V = Y.T-np.dot(H,X) #innovation or measurement residual\n",
    "    S = np.dot(H, np.dot(P,H.T))+R #measurement prediction covariance\n",
    "    K = np.dot(P, np.dot(H.T, np.linalg.inv(S)))  #Kalman gain\n",
    "    X = X + np.dot(K,V)  #now estimate the mean (a posteriori)\n",
    "    P = P - np.dot(K,np.dot(S,K.T)) #estimate the covariance matrix (a posteriori)\n",
    "    return(X,P,K,V,S,H)"
   ]
  },
  {
   "cell_type": "code",
   "execution_count": 16,
   "metadata": {},
   "outputs": [],
   "source": [
    "\"\"\"\n",
    "Now example: Tracking of mobile in wireless network\n",
    "Initialisation of state matrices\n",
    "Please note that for KF the results are very sensitive to parameters, I would suggest to play abit with the parameters\n",
    "\"\"\"\n",
    "\n",
    "X = np.array([[0.0],[0.0],[0.1],[0.1]]) #first two for location (0,0), later two for velocity (0.1,0.1) at a 2-D lattice x,y\n",
    "#P = np.diag((0.01,0.01,0.01,0.01))\n",
    "P = np.matrix(np.eye(4))*1000 # initial uncertainty\n",
    "dt = 0.1 #this will shape the state transition model A\n",
    "A = np.array([[1,0,dt,0],[0,1,0,dt],[0,0,1,0],[0,0,0,1]]) #transition matrix (x_t-1 -> x_t)\n",
    "H = np.array([[1,0,0,0],[0,1,0,0]]) #measurement matrix   y = H*x   (x, the true state, cannot be observed)\n",
    "Q = np.eye(X.shape[0])\n",
    "B = np.eye(X.shape[0])\n",
    "U = np.zeros((X.shape[0],1))\n",
    "#Measurement matrices\n",
    "N=20\n",
    "true_x = np.linspace(0.0, 10.0, N)\n",
    "true_y = true_x**2\n",
    "observed_x = true_x + 0.1*np.random.random(N)*true_x\n",
    "observed_y = true_y + 0.1*np.random.random(N)*true_y\n",
    "Y= np.vstack((observed_x,observed_y)).T\n",
    "result = []\n",
    "\n",
    "R =0.1**2"
   ]
  },
  {
   "cell_type": "markdown",
   "metadata": {},
   "source": [
    " - Tranlating the model into matrix A can be difficult (e.g. non-trivial to do with an ABM). \n",
    "   - (An emulator could be used to translate the model into A)\n",
    "\n",
    " \n",
    " "
   ]
  },
  {
   "cell_type": "code",
   "execution_count": 17,
   "metadata": {},
   "outputs": [
    {
     "data": {
      "text/plain": [
       "[<matplotlib.lines.Line2D at 0x121615780>]"
      ]
     },
     "execution_count": 17,
     "metadata": {},
     "output_type": "execute_result"
    },
    {
     "data": {
      "image/png": "[encoded data removed]",
      "text/plain": [
       "<matplotlib.figure.Figure at 0x122057908>"
      ]
     },
     "metadata": {},
     "output_type": "display_data"
    }
   ],
   "source": [
    "#now the main KF loop\n",
    "for i in range(0,N):\n",
    "    \n",
    "    #print(X)\n",
    "    (X,P,K,V,S,H)=kf_update(X,P,np.array([Y[i]]),H,R)\n",
    "    (X,P)= kf_predict(X,P,A,Q,B,U)\n",
    "    #print(K)\n",
    "    result.append((X[:2]).tolist())\n",
    "#plotting\n",
    "kalman_x, kalman_y = zip(*result)\n",
    "plt.plot(observed_x, observed_y, 'ro')\n",
    "plt.plot(kalman_x, kalman_y, 'g-')\n",
    "#plt.show()"
   ]
  },
  {
   "cell_type": "code",
   "execution_count": null,
   "metadata": {},
   "outputs": [],
   "source": []
  }
 ],
 "metadata": {
  "kernelspec": {
   "display_name": "Python 3",
   "language": "python",
   "name": "python3"
  },
  "language_info": {
   "codemirror_mode": {
    "name": "ipython",
    "version": 3
   },
   "file_extension": ".py",
   "mimetype": "text/x-python",
   "name": "python",
   "nbconvert_exporter": "python",
   "pygments_lexer": "ipython3",
   "version": "3.6.4"
  }
 },
 "nbformat": 4,
 "nbformat_minor": 2
}
