{
 "cells": [
  {
   "cell_type": "markdown",
   "metadata": {},
   "source": [
    "# Particle Filter Experimental Results\n",
    "\n",
    "This presents some of the results from the particle filter experiments. See [pf_experiments_plots.py](./pf_experiments_plots.py) for more results. This script mainly produces the graphs that are used in the accompanying paper."
   ]
  },
  {
   "cell_type": "markdown",
   "metadata": {},
   "source": [
    "## Initialisation"
   ]
  },
  {
   "cell_type": "markdown",
   "metadata": {},
   "source": [
    "Read the requred libraries"
   ]
  },
  {
   "cell_type": "code",
   "execution_count": 1,
   "metadata": {},
   "outputs": [],
   "source": [
    "%matplotlib inline\n",
    "\n",
    "import os\n",
    "import re\n",
    "import math\n",
    "import numpy as np\n",
    "import matplotlib.pyplot as plt\n",
    "#plt.ioff() # Turn off interactive mode\n",
    "import pandas as pd\n",
    "import sys\n",
    "import warnings\n",
    "from scipy.interpolate import griddata # For interpolating across irregularly spaced grid\n",
    "import pickle # For saving computationally-expensive operations\n",
    "\n",
    "# The following is to import the Particle Filter code\n",
    "# (mostly we just read results that were created previously, but sometimes it's  useful to\n",
    "# visualise additional experiments).\n",
    "import sys\n",
    "sys.path.append('../../stationsim')\n",
    "sys.path.append('../..')\n",
    "from stationsim.particle_filter import ParticleFilter\n",
    "from stationsim.stationsim_model import Model\n",
    "import time\n",
    "import multiprocessing"
   ]
  },
  {
   "cell_type": "markdown",
   "metadata": {},
   "source": [
    "Configure the script"
   ]
  },
  {
   "cell_type": "code",
   "execution_count": 2,
   "metadata": {},
   "outputs": [
    {
     "name": "stdout",
     "output_type": "stream",
     "text": [
      "Plotting results in directory: /Users/nick/gp/dust/Projects/ABM_DA/experiments/pf_experiments/results/2/noise1\n"
     ]
    }
   ],
   "source": [
    "# We need to tell the script which directory the results are in\n",
    "\n",
    "# First try to get the directory of this .ipynb file\n",
    "#root_dir = !echo %cd% # this might work under windows\n",
    "root_dir = !pwd # under linux/mac # This works in linux/mac\n",
    "\n",
    "# Now append the specific directory with results:\n",
    "path = os.path.join(root_dir[0], \"results\",\"2/noise1\")\n",
    "print(f\"Plotting results in directory: {path}\")\n",
    "\n",
    "# Need to set the number of particles and agents used in the experiments. These are set in the file that runs\n",
    "# the experiments: ./run_pf.py\n",
    "# Copy the lines near the top that set the number of particles and agents\n",
    "\n",
    "# Lists of particles, agent numbers, and particle noise levels\n",
    "num_par = list ( [1] + list(range(10, 50, 10)) + list(range(100, 501, 100)) + list(range(1000, 2001, 500)) + [3000, 5000, 7500, 10000])\n",
    "num_age = [2, 5, 10, 15, 20, 30, 40, 50]\n",
    "\n",
    "# Use log on y axis?\n",
    "uselog = True\n",
    "\n",
    "# Type of interpolation i.e. 'nearest' of 'linear' (see help(griddata)))\n",
    "interpolate_method = \"nearest\""
   ]
  },
  {
   "cell_type": "markdown",
   "metadata": {},
   "source": [
    "## Read the data"
   ]
  },
  {
   "cell_type": "code",
   "execution_count": 3,
   "metadata": {},
   "outputs": [
    {
     "name": "stdout",
     "output_type": "stream",
     "text": [
      "Found 124 files\n",
      "Reading files....\n"
     ]
    },
    {
     "name": "stderr",
     "output_type": "stream",
     "text": [
      "/Users/nick/anaconda/envs/py35/lib/python3.6/site-packages/ipykernel_launcher.py:83: UserWarning: Current file shape ((18, 10)) does not match the previous one ((20, 10)). Current file is: \n",
      "\t/Users/nick/gp/dust/Projects/ABM_DA/experiments/pf_experiments/results/2/noise1/pf_particles_10000_agents_2_noise_1.0-1562357384.csv. \n",
      "\tLess than 20% rows missing so continuing\n",
      "/Users/nick/anaconda/envs/py35/lib/python3.6/site-packages/ipykernel_launcher.py:83: UserWarning: Current file shape ((56, 10)) does not match the previous one ((20, 10)). Current file is: \n",
      "\t/Users/nick/gp/dust/Projects/ABM_DA/experiments/pf_experiments/results/2/noise1/pf_particles_10000_agents_50_noise_1.0-1562249284.csv. \n",
      "\tLess than 20% rows missing so continuing\n",
      "/Users/nick/anaconda/envs/py35/lib/python3.6/site-packages/ipykernel_launcher.py:83: UserWarning: Current file shape ((40, 10)) does not match the previous one ((20, 10)). Current file is: \n",
      "\t/Users/nick/gp/dust/Projects/ABM_DA/experiments/pf_experiments/results/2/noise1/pf_particles_1000_agents_10_noise_1.0-1562251026.csv. \n",
      "\tLess than 20% rows missing so continuing\n",
      "/Users/nick/anaconda/envs/py35/lib/python3.6/site-packages/ipykernel_launcher.py:83: UserWarning: Current file shape ((40, 10)) does not match the previous one ((20, 10)). Current file is: \n",
      "\t/Users/nick/gp/dust/Projects/ABM_DA/experiments/pf_experiments/results/2/noise1/pf_particles_1000_agents_15_noise_1.0-1562251565.csv. \n",
      "\tLess than 20% rows missing so continuing\n",
      "/Users/nick/anaconda/envs/py35/lib/python3.6/site-packages/ipykernel_launcher.py:83: UserWarning: Current file shape ((40, 10)) does not match the previous one ((20, 10)). Current file is: \n",
      "\t/Users/nick/gp/dust/Projects/ABM_DA/experiments/pf_experiments/results/2/noise1/pf_particles_1000_agents_20_noise_1.0-1562252342.csv. \n",
      "\tLess than 20% rows missing so continuing\n",
      "/Users/nick/anaconda/envs/py35/lib/python3.6/site-packages/ipykernel_launcher.py:83: UserWarning: Current file shape ((38, 10)) does not match the previous one ((20, 10)). Current file is: \n",
      "\t/Users/nick/gp/dust/Projects/ABM_DA/experiments/pf_experiments/results/2/noise1/pf_particles_1000_agents_2_noise_1.0-1562250591.csv. \n",
      "\tLess than 20% rows missing so continuing\n",
      "/Users/nick/anaconda/envs/py35/lib/python3.6/site-packages/ipykernel_launcher.py:83: UserWarning: Current file shape ((40, 10)) does not match the previous one ((20, 10)). Current file is: \n",
      "\t/Users/nick/gp/dust/Projects/ABM_DA/experiments/pf_experiments/results/2/noise1/pf_particles_1000_agents_30_noise_1.0-1562253585.csv. \n",
      "\tLess than 20% rows missing so continuing\n",
      "/Users/nick/anaconda/envs/py35/lib/python3.6/site-packages/ipykernel_launcher.py:83: UserWarning: Current file shape ((40, 10)) does not match the previous one ((20, 10)). Current file is: \n",
      "\t/Users/nick/gp/dust/Projects/ABM_DA/experiments/pf_experiments/results/2/noise1/pf_particles_1000_agents_40_noise_1.0-1562255399.csv. \n",
      "\tLess than 20% rows missing so continuing\n",
      "/Users/nick/anaconda/envs/py35/lib/python3.6/site-packages/ipykernel_launcher.py:83: UserWarning: Current file shape ((40, 10)) does not match the previous one ((20, 10)). Current file is: \n",
      "\t/Users/nick/gp/dust/Projects/ABM_DA/experiments/pf_experiments/results/2/noise1/pf_particles_1000_agents_50_noise_1.0-1562258018.csv. \n",
      "\tLess than 20% rows missing so continuing\n",
      "/Users/nick/anaconda/envs/py35/lib/python3.6/site-packages/ipykernel_launcher.py:83: UserWarning: Current file shape ((40, 10)) does not match the previous one ((20, 10)). Current file is: \n",
      "\t/Users/nick/gp/dust/Projects/ABM_DA/experiments/pf_experiments/results/2/noise1/pf_particles_1000_agents_5_noise_1.0-1562250737.csv. \n",
      "\tLess than 20% rows missing so continuing\n",
      "/Users/nick/anaconda/envs/py35/lib/python3.6/site-packages/ipykernel_launcher.py:83: UserWarning: Current file shape ((40, 10)) does not match the previous one ((20, 10)). Current file is: \n",
      "\t/Users/nick/gp/dust/Projects/ABM_DA/experiments/pf_experiments/results/2/noise1/pf_particles_100_agents_10_noise_1.0-1562233683.csv. \n",
      "\tLess than 20% rows missing so continuing\n",
      "/Users/nick/anaconda/envs/py35/lib/python3.6/site-packages/ipykernel_launcher.py:83: UserWarning: Current file shape ((40, 10)) does not match the previous one ((20, 10)). Current file is: \n",
      "\t/Users/nick/gp/dust/Projects/ABM_DA/experiments/pf_experiments/results/2/noise1/pf_particles_100_agents_15_noise_1.0-1562233795.csv. \n",
      "\tLess than 20% rows missing so continuing\n",
      "/Users/nick/anaconda/envs/py35/lib/python3.6/site-packages/ipykernel_launcher.py:83: UserWarning: Current file shape ((40, 10)) does not match the previous one ((20, 10)). Current file is: \n",
      "\t/Users/nick/gp/dust/Projects/ABM_DA/experiments/pf_experiments/results/2/noise1/pf_particles_100_agents_20_noise_1.0-1562233920.csv. \n",
      "\tLess than 20% rows missing so continuing\n",
      "/Users/nick/anaconda/envs/py35/lib/python3.6/site-packages/ipykernel_launcher.py:83: UserWarning: Current file shape ((40, 10)) does not match the previous one ((20, 10)). Current file is: \n",
      "\t/Users/nick/gp/dust/Projects/ABM_DA/experiments/pf_experiments/results/2/noise1/pf_particles_100_agents_2_noise_1.0-1562233572.csv. \n",
      "\tLess than 20% rows missing so continuing\n",
      "/Users/nick/anaconda/envs/py35/lib/python3.6/site-packages/ipykernel_launcher.py:83: UserWarning: Current file shape ((40, 10)) does not match the previous one ((20, 10)). Current file is: \n",
      "\t/Users/nick/gp/dust/Projects/ABM_DA/experiments/pf_experiments/results/2/noise1/pf_particles_100_agents_30_noise_1.0-1562234063.csv. \n",
      "\tLess than 20% rows missing so continuing\n",
      "/Users/nick/anaconda/envs/py35/lib/python3.6/site-packages/ipykernel_launcher.py:83: UserWarning: Current file shape ((40, 10)) does not match the previous one ((20, 10)). Current file is: \n",
      "\t/Users/nick/gp/dust/Projects/ABM_DA/experiments/pf_experiments/results/2/noise1/pf_particles_100_agents_40_noise_1.0-1562234296.csv. \n",
      "\tLess than 20% rows missing so continuing\n",
      "/Users/nick/anaconda/envs/py35/lib/python3.6/site-packages/ipykernel_launcher.py:83: UserWarning: Current file shape ((40, 10)) does not match the previous one ((20, 10)). Current file is: \n",
      "\t/Users/nick/gp/dust/Projects/ABM_DA/experiments/pf_experiments/results/2/noise1/pf_particles_100_agents_50_noise_1.0-1562234587.csv. \n",
      "\tLess than 20% rows missing so continuing\n",
      "/Users/nick/anaconda/envs/py35/lib/python3.6/site-packages/ipykernel_launcher.py:83: UserWarning: Current file shape ((40, 10)) does not match the previous one ((20, 10)). Current file is: \n",
      "\t/Users/nick/gp/dust/Projects/ABM_DA/experiments/pf_experiments/results/2/noise1/pf_particles_100_agents_5_noise_1.0-1562233616.csv. \n",
      "\tLess than 20% rows missing so continuing\n",
      "/Users/nick/anaconda/envs/py35/lib/python3.6/site-packages/ipykernel_launcher.py:83: UserWarning: Current file shape ((40, 10)) does not match the previous one ((20, 10)). Current file is: \n",
      "\t/Users/nick/gp/dust/Projects/ABM_DA/experiments/pf_experiments/results/2/noise1/pf_particles_10_agents_10_noise_1.0-1562230910.csv. \n",
      "\tLess than 20% rows missing so continuing\n",
      "/Users/nick/anaconda/envs/py35/lib/python3.6/site-packages/ipykernel_launcher.py:83: UserWarning: Current file shape ((40, 10)) does not match the previous one ((20, 10)). Current file is: \n",
      "\t/Users/nick/gp/dust/Projects/ABM_DA/experiments/pf_experiments/results/2/noise1/pf_particles_10_agents_15_noise_1.0-1562230958.csv. \n",
      "\tLess than 20% rows missing so continuing\n",
      "/Users/nick/anaconda/envs/py35/lib/python3.6/site-packages/ipykernel_launcher.py:83: UserWarning: Current file shape ((40, 10)) does not match the previous one ((20, 10)). Current file is: \n",
      "\t/Users/nick/gp/dust/Projects/ABM_DA/experiments/pf_experiments/results/2/noise1/pf_particles_10_agents_20_noise_1.0-1562231018.csv. \n",
      "\tLess than 20% rows missing so continuing\n",
      "/Users/nick/anaconda/envs/py35/lib/python3.6/site-packages/ipykernel_launcher.py:83: UserWarning: Current file shape ((38, 10)) does not match the previous one ((20, 10)). Current file is: \n",
      "\t/Users/nick/gp/dust/Projects/ABM_DA/experiments/pf_experiments/results/2/noise1/pf_particles_10_agents_2_noise_1.0-1562230838.csv. \n",
      "\tLess than 20% rows missing so continuing\n",
      "/Users/nick/anaconda/envs/py35/lib/python3.6/site-packages/ipykernel_launcher.py:83: UserWarning: Current file shape ((40, 10)) does not match the previous one ((20, 10)). Current file is: \n",
      "\t/Users/nick/gp/dust/Projects/ABM_DA/experiments/pf_experiments/results/2/noise1/pf_particles_10_agents_30_noise_1.0-1562231089.csv. \n",
      "\tLess than 20% rows missing so continuing\n",
      "/Users/nick/anaconda/envs/py35/lib/python3.6/site-packages/ipykernel_launcher.py:83: UserWarning: Current file shape ((40, 10)) does not match the previous one ((20, 10)). Current file is: \n",
      "\t/Users/nick/gp/dust/Projects/ABM_DA/experiments/pf_experiments/results/2/noise1/pf_particles_10_agents_40_noise_1.0-1562231177.csv. \n",
      "\tLess than 20% rows missing so continuing\n",
      "/Users/nick/anaconda/envs/py35/lib/python3.6/site-packages/ipykernel_launcher.py:83: UserWarning: Current file shape ((40, 10)) does not match the previous one ((20, 10)). Current file is: \n",
      "\t/Users/nick/gp/dust/Projects/ABM_DA/experiments/pf_experiments/results/2/noise1/pf_particles_10_agents_50_noise_1.0-1562231285.csv. \n",
      "\tLess than 20% rows missing so continuing\n",
      "/Users/nick/anaconda/envs/py35/lib/python3.6/site-packages/ipykernel_launcher.py:83: UserWarning: Current file shape ((40, 10)) does not match the previous one ((20, 10)). Current file is: \n",
      "\t/Users/nick/gp/dust/Projects/ABM_DA/experiments/pf_experiments/results/2/noise1/pf_particles_10_agents_5_noise_1.0-1562230871.csv. \n",
      "\tLess than 20% rows missing so continuing\n",
      "/Users/nick/anaconda/envs/py35/lib/python3.6/site-packages/ipykernel_launcher.py:83: UserWarning: Current file shape ((40, 10)) does not match the previous one ((20, 10)). Current file is: \n",
      "\t/Users/nick/gp/dust/Projects/ABM_DA/experiments/pf_experiments/results/2/noise1/pf_particles_1500_agents_10_noise_1.0-1562261889.csv. \n",
      "\tLess than 20% rows missing so continuing\n",
      "/Users/nick/anaconda/envs/py35/lib/python3.6/site-packages/ipykernel_launcher.py:83: UserWarning: Current file shape ((40, 10)) does not match the previous one ((20, 10)). Current file is: \n",
      "\t/Users/nick/gp/dust/Projects/ABM_DA/experiments/pf_experiments/results/2/noise1/pf_particles_1500_agents_15_noise_1.0-1562262714.csv. \n",
      "\tLess than 20% rows missing so continuing\n",
      "/Users/nick/anaconda/envs/py35/lib/python3.6/site-packages/ipykernel_launcher.py:83: UserWarning: Current file shape ((40, 10)) does not match the previous one ((20, 10)). Current file is: \n",
      "\t/Users/nick/gp/dust/Projects/ABM_DA/experiments/pf_experiments/results/2/noise1/pf_particles_1500_agents_20_noise_1.0-1562263983.csv. \n",
      "\tLess than 20% rows missing so continuing\n",
      "/Users/nick/anaconda/envs/py35/lib/python3.6/site-packages/ipykernel_launcher.py:83: UserWarning: Current file shape ((38, 10)) does not match the previous one ((20, 10)). Current file is: \n",
      "\t/Users/nick/gp/dust/Projects/ABM_DA/experiments/pf_experiments/results/2/noise1/pf_particles_1500_agents_2_noise_1.0-1562261378.csv. \n",
      "\tLess than 20% rows missing so continuing\n",
      "/Users/nick/anaconda/envs/py35/lib/python3.6/site-packages/ipykernel_launcher.py:83: UserWarning: Current file shape ((40, 10)) does not match the previous one ((20, 10)). Current file is: \n",
      "\t/Users/nick/gp/dust/Projects/ABM_DA/experiments/pf_experiments/results/2/noise1/pf_particles_1500_agents_30_noise_1.0-1562265650.csv. \n",
      "\tLess than 20% rows missing so continuing\n",
      "/Users/nick/anaconda/envs/py35/lib/python3.6/site-packages/ipykernel_launcher.py:83: UserWarning: Current file shape ((40, 10)) does not match the previous one ((20, 10)). Current file is: \n",
      "\t/Users/nick/gp/dust/Projects/ABM_DA/experiments/pf_experiments/results/2/noise1/pf_particles_1500_agents_40_noise_1.0-1562268569.csv. \n",
      "\tLess than 20% rows missing so continuing\n",
      "/Users/nick/anaconda/envs/py35/lib/python3.6/site-packages/ipykernel_launcher.py:83: UserWarning: Current file shape ((40, 10)) does not match the previous one ((20, 10)). Current file is: \n",
      "\t/Users/nick/gp/dust/Projects/ABM_DA/experiments/pf_experiments/results/2/noise1/pf_particles_1500_agents_50_noise_1.0-1562272428.csv. \n",
      "\tLess than 20% rows missing so continuing\n",
      "/Users/nick/anaconda/envs/py35/lib/python3.6/site-packages/ipykernel_launcher.py:83: UserWarning: Current file shape ((40, 10)) does not match the previous one ((20, 10)). Current file is: \n",
      "\t/Users/nick/gp/dust/Projects/ABM_DA/experiments/pf_experiments/results/2/noise1/pf_particles_1500_agents_5_noise_1.0-1562261551.csv. \n",
      "\tLess than 20% rows missing so continuing\n",
      "/Users/nick/anaconda/envs/py35/lib/python3.6/site-packages/ipykernel_launcher.py:83: UserWarning: Current file shape ((40, 10)) does not match the previous one ((20, 10)). Current file is: \n",
      "\t/Users/nick/gp/dust/Projects/ABM_DA/experiments/pf_experiments/results/2/noise1/pf_particles_1_agents_10_noise_1.0-1562230408.csv. \n",
      "\tLess than 20% rows missing so continuing\n",
      "/Users/nick/anaconda/envs/py35/lib/python3.6/site-packages/ipykernel_launcher.py:83: UserWarning: Current file shape ((40, 10)) does not match the previous one ((20, 10)). Current file is: \n",
      "\t/Users/nick/gp/dust/Projects/ABM_DA/experiments/pf_experiments/results/2/noise1/pf_particles_1_agents_15_noise_1.0-1562230457.csv. \n",
      "\tLess than 20% rows missing so continuing\n",
      "/Users/nick/anaconda/envs/py35/lib/python3.6/site-packages/ipykernel_launcher.py:83: UserWarning: Current file shape ((40, 10)) does not match the previous one ((20, 10)). Current file is: \n",
      "\t/Users/nick/gp/dust/Projects/ABM_DA/experiments/pf_experiments/results/2/noise1/pf_particles_1_agents_20_noise_1.0-1562230513.csv. \n",
      "\tLess than 20% rows missing so continuing\n",
      "/Users/nick/anaconda/envs/py35/lib/python3.6/site-packages/ipykernel_launcher.py:83: UserWarning: Current file shape ((40, 10)) does not match the previous one ((20, 10)). Current file is: \n",
      "\t/Users/nick/gp/dust/Projects/ABM_DA/experiments/pf_experiments/results/2/noise1/pf_particles_1_agents_2_noise_1.0-1562230336.csv. \n",
      "\tLess than 20% rows missing so continuing\n",
      "/Users/nick/anaconda/envs/py35/lib/python3.6/site-packages/ipykernel_launcher.py:83: UserWarning: Current file shape ((40, 10)) does not match the previous one ((20, 10)). Current file is: \n",
      "\t/Users/nick/gp/dust/Projects/ABM_DA/experiments/pf_experiments/results/2/noise1/pf_particles_1_agents_30_noise_1.0-1562230570.csv. \n",
      "\tLess than 20% rows missing so continuing\n",
      "/Users/nick/anaconda/envs/py35/lib/python3.6/site-packages/ipykernel_launcher.py:83: UserWarning: Current file shape ((40, 10)) does not match the previous one ((20, 10)). Current file is: \n",
      "\t/Users/nick/gp/dust/Projects/ABM_DA/experiments/pf_experiments/results/2/noise1/pf_particles_1_agents_40_noise_1.0-1562230645.csv. \n",
      "\tLess than 20% rows missing so continuing\n",
      "/Users/nick/anaconda/envs/py35/lib/python3.6/site-packages/ipykernel_launcher.py:83: UserWarning: Current file shape ((40, 10)) does not match the previous one ((20, 10)). Current file is: \n",
      "\t/Users/nick/gp/dust/Projects/ABM_DA/experiments/pf_experiments/results/2/noise1/pf_particles_1_agents_50_noise_1.0-1562230734.csv. \n",
      "\tLess than 20% rows missing so continuing\n",
      "/Users/nick/anaconda/envs/py35/lib/python3.6/site-packages/ipykernel_launcher.py:83: UserWarning: Current file shape ((40, 10)) does not match the previous one ((20, 10)). Current file is: \n",
      "\t/Users/nick/gp/dust/Projects/ABM_DA/experiments/pf_experiments/results/2/noise1/pf_particles_1_agents_5_noise_1.0-1562230371.csv. \n",
      "\tLess than 20% rows missing so continuing\n",
      "/Users/nick/anaconda/envs/py35/lib/python3.6/site-packages/ipykernel_launcher.py:83: UserWarning: Current file shape ((38, 10)) does not match the previous one ((20, 10)). Current file is: \n",
      "\t/Users/nick/gp/dust/Projects/ABM_DA/experiments/pf_experiments/results/2/noise1/pf_particles_2000_agents_2_noise_1.0-1562276495.csv. \n",
      "\tLess than 20% rows missing so continuing\n",
      "/Users/nick/anaconda/envs/py35/lib/python3.6/site-packages/ipykernel_launcher.py:83: UserWarning: Current file shape ((40, 10)) does not match the previous one ((20, 10)). Current file is: \n",
      "\t/Users/nick/gp/dust/Projects/ABM_DA/experiments/pf_experiments/results/2/noise1/pf_particles_200_agents_10_noise_1.0-1562235096.csv. \n",
      "\tLess than 20% rows missing so continuing\n",
      "/Users/nick/anaconda/envs/py35/lib/python3.6/site-packages/ipykernel_launcher.py:83: UserWarning: Current file shape ((40, 10)) does not match the previous one ((20, 10)). Current file is: \n",
      "\t/Users/nick/gp/dust/Projects/ABM_DA/experiments/pf_experiments/results/2/noise1/pf_particles_200_agents_15_noise_1.0-1562235223.csv. \n",
      "\tLess than 20% rows missing so continuing\n",
      "/Users/nick/anaconda/envs/py35/lib/python3.6/site-packages/ipykernel_launcher.py:83: UserWarning: Current file shape ((40, 10)) does not match the previous one ((20, 10)). Current file is: \n",
      "\t/Users/nick/gp/dust/Projects/ABM_DA/experiments/pf_experiments/results/2/noise1/pf_particles_200_agents_20_noise_1.0-1562235424.csv. \n",
      "\tLess than 20% rows missing so continuing\n",
      "/Users/nick/anaconda/envs/py35/lib/python3.6/site-packages/ipykernel_launcher.py:83: UserWarning: Current file shape ((38, 10)) does not match the previous one ((20, 10)). Current file is: \n",
      "\t/Users/nick/gp/dust/Projects/ABM_DA/experiments/pf_experiments/results/2/noise1/pf_particles_200_agents_2_noise_1.0-1562234963.csv. \n",
      "\tLess than 20% rows missing so continuing\n",
      "/Users/nick/anaconda/envs/py35/lib/python3.6/site-packages/ipykernel_launcher.py:83: UserWarning: Current file shape ((40, 10)) does not match the previous one ((20, 10)). Current file is: \n",
      "\t/Users/nick/gp/dust/Projects/ABM_DA/experiments/pf_experiments/results/2/noise1/pf_particles_200_agents_30_noise_1.0-1562235688.csv. \n",
      "\tLess than 20% rows missing so continuing\n",
      "/Users/nick/anaconda/envs/py35/lib/python3.6/site-packages/ipykernel_launcher.py:83: UserWarning: Current file shape ((40, 10)) does not match the previous one ((20, 10)). Current file is: \n",
      "\t/Users/nick/gp/dust/Projects/ABM_DA/experiments/pf_experiments/results/2/noise1/pf_particles_200_agents_40_noise_1.0-1562236081.csv. \n",
      "\tLess than 20% rows missing so continuing\n",
      "/Users/nick/anaconda/envs/py35/lib/python3.6/site-packages/ipykernel_launcher.py:83: UserWarning: Current file shape ((40, 10)) does not match the previous one ((20, 10)). Current file is: \n",
      "\t/Users/nick/gp/dust/Projects/ABM_DA/experiments/pf_experiments/results/2/noise1/pf_particles_200_agents_50_noise_1.0-1562236638.csv. \n",
      "\tLess than 20% rows missing so continuing\n",
      "/Users/nick/anaconda/envs/py35/lib/python3.6/site-packages/ipykernel_launcher.py:83: UserWarning: Current file shape ((40, 10)) does not match the previous one ((20, 10)). Current file is: \n",
      "\t/Users/nick/gp/dust/Projects/ABM_DA/experiments/pf_experiments/results/2/noise1/pf_particles_200_agents_5_noise_1.0-1562235016.csv. \n",
      "\tLess than 20% rows missing so continuing\n",
      "/Users/nick/anaconda/envs/py35/lib/python3.6/site-packages/ipykernel_launcher.py:83: UserWarning: Current file shape ((40, 10)) does not match the previous one ((20, 10)). Current file is: \n",
      "\t/Users/nick/gp/dust/Projects/ABM_DA/experiments/pf_experiments/results/2/noise1/pf_particles_20_agents_10_noise_1.0-1562231486.csv. \n",
      "\tLess than 20% rows missing so continuing\n",
      "/Users/nick/anaconda/envs/py35/lib/python3.6/site-packages/ipykernel_launcher.py:83: UserWarning: Current file shape ((40, 10)) does not match the previous one ((20, 10)). Current file is: \n",
      "\t/Users/nick/gp/dust/Projects/ABM_DA/experiments/pf_experiments/results/2/noise1/pf_particles_20_agents_15_noise_1.0-1562231538.csv. \n",
      "\tLess than 20% rows missing so continuing\n",
      "/Users/nick/anaconda/envs/py35/lib/python3.6/site-packages/ipykernel_launcher.py:83: UserWarning: Current file shape ((40, 10)) does not match the previous one ((20, 10)). Current file is: \n",
      "\t/Users/nick/gp/dust/Projects/ABM_DA/experiments/pf_experiments/results/2/noise1/pf_particles_20_agents_20_noise_1.0-1562231606.csv. \n",
      "\tLess than 20% rows missing so continuing\n",
      "/Users/nick/anaconda/envs/py35/lib/python3.6/site-packages/ipykernel_launcher.py:83: UserWarning: Current file shape ((40, 10)) does not match the previous one ((20, 10)). Current file is: \n",
      "\t/Users/nick/gp/dust/Projects/ABM_DA/experiments/pf_experiments/results/2/noise1/pf_particles_20_agents_2_noise_1.0-1562231413.csv. \n",
      "\tLess than 20% rows missing so continuing\n",
      "/Users/nick/anaconda/envs/py35/lib/python3.6/site-packages/ipykernel_launcher.py:83: UserWarning: Current file shape ((40, 10)) does not match the previous one ((20, 10)). Current file is: \n",
      "\t/Users/nick/gp/dust/Projects/ABM_DA/experiments/pf_experiments/results/2/noise1/pf_particles_20_agents_30_noise_1.0-1562231683.csv. \n",
      "\tLess than 20% rows missing so continuing\n",
      "/Users/nick/anaconda/envs/py35/lib/python3.6/site-packages/ipykernel_launcher.py:83: UserWarning: Current file shape ((40, 10)) does not match the previous one ((20, 10)). Current file is: \n",
      "\t/Users/nick/gp/dust/Projects/ABM_DA/experiments/pf_experiments/results/2/noise1/pf_particles_20_agents_40_noise_1.0-1562231794.csv. \n",
      "\tLess than 20% rows missing so continuing\n",
      "/Users/nick/anaconda/envs/py35/lib/python3.6/site-packages/ipykernel_launcher.py:83: UserWarning: Current file shape ((40, 10)) does not match the previous one ((20, 10)). Current file is: \n",
      "\t/Users/nick/gp/dust/Projects/ABM_DA/experiments/pf_experiments/results/2/noise1/pf_particles_20_agents_50_noise_1.0-1562231920.csv. \n",
      "\tLess than 20% rows missing so continuing\n",
      "/Users/nick/anaconda/envs/py35/lib/python3.6/site-packages/ipykernel_launcher.py:83: UserWarning: Current file shape ((40, 10)) does not match the previous one ((20, 10)). Current file is: \n",
      "\t/Users/nick/gp/dust/Projects/ABM_DA/experiments/pf_experiments/results/2/noise1/pf_particles_20_agents_5_noise_1.0-1562231444.csv. \n",
      "\tLess than 20% rows missing so continuing\n",
      "/Users/nick/anaconda/envs/py35/lib/python3.6/site-packages/ipykernel_launcher.py:83: UserWarning: Current file shape ((40, 10)) does not match the previous one ((20, 10)). Current file is: \n",
      "\t/Users/nick/gp/dust/Projects/ABM_DA/experiments/pf_experiments/results/2/noise1/pf_particles_3000_agents_20_noise_1.0-1562276853.csv. \n",
      "\tLess than 20% rows missing so continuing\n",
      "/Users/nick/anaconda/envs/py35/lib/python3.6/site-packages/ipykernel_launcher.py:83: UserWarning: Current file shape ((40, 10)) does not match the previous one ((20, 10)). Current file is: \n",
      "\t/Users/nick/gp/dust/Projects/ABM_DA/experiments/pf_experiments/results/2/noise1/pf_particles_3000_agents_30_noise_1.0-1562282322.csv. \n",
      "\tLess than 20% rows missing so continuing\n",
      "/Users/nick/anaconda/envs/py35/lib/python3.6/site-packages/ipykernel_launcher.py:83: UserWarning: Current file shape ((36, 10)) does not match the previous one ((20, 10)). Current file is: \n",
      "\t/Users/nick/gp/dust/Projects/ABM_DA/experiments/pf_experiments/results/2/noise1/pf_particles_3000_agents_40_noise_1.0-1562289907.csv. \n",
      "\tLess than 20% rows missing so continuing\n",
      "/Users/nick/anaconda/envs/py35/lib/python3.6/site-packages/ipykernel_launcher.py:83: UserWarning: Current file shape ((40, 10)) does not match the previous one ((20, 10)). Current file is: \n",
      "\t/Users/nick/gp/dust/Projects/ABM_DA/experiments/pf_experiments/results/2/noise1/pf_particles_300_agents_10_noise_1.0-1562237478.csv. \n",
      "\tLess than 20% rows missing so continuing\n",
      "/Users/nick/anaconda/envs/py35/lib/python3.6/site-packages/ipykernel_launcher.py:83: UserWarning: Current file shape ((40, 10)) does not match the previous one ((20, 10)). Current file is: \n",
      "\t/Users/nick/gp/dust/Projects/ABM_DA/experiments/pf_experiments/results/2/noise1/pf_particles_300_agents_15_noise_1.0-1562237675.csv. \n",
      "\tLess than 20% rows missing so continuing\n",
      "/Users/nick/anaconda/envs/py35/lib/python3.6/site-packages/ipykernel_launcher.py:83: UserWarning: Current file shape ((40, 10)) does not match the previous one ((20, 10)). Current file is: \n",
      "\t/Users/nick/gp/dust/Projects/ABM_DA/experiments/pf_experiments/results/2/noise1/pf_particles_300_agents_20_noise_1.0-1562237958.csv. \n",
      "\tLess than 20% rows missing so continuing\n",
      "/Users/nick/anaconda/envs/py35/lib/python3.6/site-packages/ipykernel_launcher.py:83: UserWarning: Current file shape ((38, 10)) does not match the previous one ((20, 10)). Current file is: \n",
      "\t/Users/nick/gp/dust/Projects/ABM_DA/experiments/pf_experiments/results/2/noise1/pf_particles_300_agents_2_noise_1.0-1562237307.csv. \n",
      "\tLess than 20% rows missing so continuing\n",
      "/Users/nick/anaconda/envs/py35/lib/python3.6/site-packages/ipykernel_launcher.py:83: UserWarning: Current file shape ((40, 10)) does not match the previous one ((20, 10)). Current file is: \n",
      "\t/Users/nick/gp/dust/Projects/ABM_DA/experiments/pf_experiments/results/2/noise1/pf_particles_300_agents_30_noise_1.0-1562238359.csv. \n",
      "\tLess than 20% rows missing so continuing\n",
      "/Users/nick/anaconda/envs/py35/lib/python3.6/site-packages/ipykernel_launcher.py:83: UserWarning: Current file shape ((40, 10)) does not match the previous one ((20, 10)). Current file is: \n",
      "\t/Users/nick/gp/dust/Projects/ABM_DA/experiments/pf_experiments/results/2/noise1/pf_particles_300_agents_40_noise_1.0-1562238825.csv. \n",
      "\tLess than 20% rows missing so continuing\n",
      "/Users/nick/anaconda/envs/py35/lib/python3.6/site-packages/ipykernel_launcher.py:83: UserWarning: Current file shape ((40, 10)) does not match the previous one ((20, 10)). Current file is: \n",
      "\t/Users/nick/gp/dust/Projects/ABM_DA/experiments/pf_experiments/results/2/noise1/pf_particles_300_agents_50_noise_1.0-1562239539.csv. \n",
      "\tLess than 20% rows missing so continuing\n",
      "/Users/nick/anaconda/envs/py35/lib/python3.6/site-packages/ipykernel_launcher.py:83: UserWarning: Current file shape ((40, 10)) does not match the previous one ((20, 10)). Current file is: \n",
      "\t/Users/nick/gp/dust/Projects/ABM_DA/experiments/pf_experiments/results/2/noise1/pf_particles_300_agents_5_noise_1.0-1562237363.csv. \n",
      "\tLess than 20% rows missing so continuing\n",
      "/Users/nick/anaconda/envs/py35/lib/python3.6/site-packages/ipykernel_launcher.py:83: UserWarning: Current file shape ((40, 10)) does not match the previous one ((20, 10)). Current file is: \n",
      "\t/Users/nick/gp/dust/Projects/ABM_DA/experiments/pf_experiments/results/2/noise1/pf_particles_30_agents_10_noise_1.0-1562232152.csv. \n",
      "\tLess than 20% rows missing so continuing\n",
      "/Users/nick/anaconda/envs/py35/lib/python3.6/site-packages/ipykernel_launcher.py:83: UserWarning: Current file shape ((40, 10)) does not match the previous one ((20, 10)). Current file is: \n",
      "\t/Users/nick/gp/dust/Projects/ABM_DA/experiments/pf_experiments/results/2/noise1/pf_particles_30_agents_15_noise_1.0-1562232209.csv. \n",
      "\tLess than 20% rows missing so continuing\n",
      "/Users/nick/anaconda/envs/py35/lib/python3.6/site-packages/ipykernel_launcher.py:83: UserWarning: Current file shape ((40, 10)) does not match the previous one ((20, 10)). Current file is: \n",
      "\t/Users/nick/gp/dust/Projects/ABM_DA/experiments/pf_experiments/results/2/noise1/pf_particles_30_agents_20_noise_1.0-1562232287.csv. \n",
      "\tLess than 20% rows missing so continuing\n",
      "/Users/nick/anaconda/envs/py35/lib/python3.6/site-packages/ipykernel_launcher.py:83: UserWarning: Current file shape ((40, 10)) does not match the previous one ((20, 10)). Current file is: \n",
      "\t/Users/nick/gp/dust/Projects/ABM_DA/experiments/pf_experiments/results/2/noise1/pf_particles_30_agents_2_noise_1.0-1562232069.csv. \n",
      "\tLess than 20% rows missing so continuing\n",
      "/Users/nick/anaconda/envs/py35/lib/python3.6/site-packages/ipykernel_launcher.py:83: UserWarning: Current file shape ((40, 10)) does not match the previous one ((20, 10)). Current file is: \n",
      "\t/Users/nick/gp/dust/Projects/ABM_DA/experiments/pf_experiments/results/2/noise1/pf_particles_30_agents_30_noise_1.0-1562232372.csv. \n",
      "\tLess than 20% rows missing so continuing\n",
      "/Users/nick/anaconda/envs/py35/lib/python3.6/site-packages/ipykernel_launcher.py:83: UserWarning: Current file shape ((40, 10)) does not match the previous one ((20, 10)). Current file is: \n",
      "\t/Users/nick/gp/dust/Projects/ABM_DA/experiments/pf_experiments/results/2/noise1/pf_particles_30_agents_40_noise_1.0-1562232477.csv. \n",
      "\tLess than 20% rows missing so continuing\n",
      "/Users/nick/anaconda/envs/py35/lib/python3.6/site-packages/ipykernel_launcher.py:83: UserWarning: Current file shape ((40, 10)) does not match the previous one ((20, 10)). Current file is: \n",
      "\t/Users/nick/gp/dust/Projects/ABM_DA/experiments/pf_experiments/results/2/noise1/pf_particles_30_agents_50_noise_1.0-1562232624.csv. \n",
      "\tLess than 20% rows missing so continuing\n",
      "/Users/nick/anaconda/envs/py35/lib/python3.6/site-packages/ipykernel_launcher.py:83: UserWarning: Current file shape ((40, 10)) does not match the previous one ((20, 10)). Current file is: \n",
      "\t/Users/nick/gp/dust/Projects/ABM_DA/experiments/pf_experiments/results/2/noise1/pf_particles_30_agents_5_noise_1.0-1562232106.csv. \n",
      "\tLess than 20% rows missing so continuing\n",
      "/Users/nick/anaconda/envs/py35/lib/python3.6/site-packages/ipykernel_launcher.py:83: UserWarning: Current file shape ((40, 10)) does not match the previous one ((20, 10)). Current file is: \n",
      "\t/Users/nick/gp/dust/Projects/ABM_DA/experiments/pf_experiments/results/2/noise1/pf_particles_400_agents_10_noise_1.0-1562240745.csv. \n",
      "\tLess than 20% rows missing so continuing\n",
      "/Users/nick/anaconda/envs/py35/lib/python3.6/site-packages/ipykernel_launcher.py:83: UserWarning: Current file shape ((40, 10)) does not match the previous one ((20, 10)). Current file is: \n",
      "\t/Users/nick/gp/dust/Projects/ABM_DA/experiments/pf_experiments/results/2/noise1/pf_particles_400_agents_15_noise_1.0-1562240987.csv. \n",
      "\tLess than 20% rows missing so continuing\n",
      "/Users/nick/anaconda/envs/py35/lib/python3.6/site-packages/ipykernel_launcher.py:83: UserWarning: Current file shape ((40, 10)) does not match the previous one ((20, 10)). Current file is: \n",
      "\t/Users/nick/gp/dust/Projects/ABM_DA/experiments/pf_experiments/results/2/noise1/pf_particles_400_agents_20_noise_1.0-1562241370.csv. \n",
      "\tLess than 20% rows missing so continuing\n",
      "/Users/nick/anaconda/envs/py35/lib/python3.6/site-packages/ipykernel_launcher.py:83: UserWarning: Current file shape ((38, 10)) does not match the previous one ((20, 10)). Current file is: \n",
      "\t/Users/nick/gp/dust/Projects/ABM_DA/experiments/pf_experiments/results/2/noise1/pf_particles_400_agents_2_noise_1.0-1562240531.csv. \n",
      "\tLess than 20% rows missing so continuing\n",
      "/Users/nick/anaconda/envs/py35/lib/python3.6/site-packages/ipykernel_launcher.py:83: UserWarning: Current file shape ((40, 10)) does not match the previous one ((20, 10)). Current file is: \n",
      "\t/Users/nick/gp/dust/Projects/ABM_DA/experiments/pf_experiments/results/2/noise1/pf_particles_400_agents_30_noise_1.0-1562241886.csv. \n",
      "\tLess than 20% rows missing so continuing\n",
      "/Users/nick/anaconda/envs/py35/lib/python3.6/site-packages/ipykernel_launcher.py:83: UserWarning: Current file shape ((40, 10)) does not match the previous one ((20, 10)). Current file is: \n",
      "\t/Users/nick/gp/dust/Projects/ABM_DA/experiments/pf_experiments/results/2/noise1/pf_particles_400_agents_40_noise_1.0-1562242626.csv. \n",
      "\tLess than 20% rows missing so continuing\n",
      "/Users/nick/anaconda/envs/py35/lib/python3.6/site-packages/ipykernel_launcher.py:83: UserWarning: Current file shape ((40, 10)) does not match the previous one ((20, 10)). Current file is: \n",
      "\t/Users/nick/gp/dust/Projects/ABM_DA/experiments/pf_experiments/results/2/noise1/pf_particles_400_agents_50_noise_1.0-1562243635.csv. \n",
      "\tLess than 20% rows missing so continuing\n",
      "/Users/nick/anaconda/envs/py35/lib/python3.6/site-packages/ipykernel_launcher.py:83: UserWarning: Current file shape ((40, 10)) does not match the previous one ((20, 10)). Current file is: \n",
      "\t/Users/nick/gp/dust/Projects/ABM_DA/experiments/pf_experiments/results/2/noise1/pf_particles_400_agents_5_noise_1.0-1562240595.csv. \n",
      "\tLess than 20% rows missing so continuing\n",
      "/Users/nick/anaconda/envs/py35/lib/python3.6/site-packages/ipykernel_launcher.py:83: UserWarning: Current file shape ((40, 10)) does not match the previous one ((20, 10)). Current file is: \n",
      "\t/Users/nick/gp/dust/Projects/ABM_DA/experiments/pf_experiments/results/2/noise1/pf_particles_40_agents_10_noise_1.0-1562232861.csv. \n",
      "\tLess than 20% rows missing so continuing\n",
      "/Users/nick/anaconda/envs/py35/lib/python3.6/site-packages/ipykernel_launcher.py:83: UserWarning: Current file shape ((40, 10)) does not match the previous one ((20, 10)). Current file is: \n",
      "\t/Users/nick/gp/dust/Projects/ABM_DA/experiments/pf_experiments/results/2/noise1/pf_particles_40_agents_15_noise_1.0-1562232923.csv. \n",
      "\tLess than 20% rows missing so continuing\n",
      "/Users/nick/anaconda/envs/py35/lib/python3.6/site-packages/ipykernel_launcher.py:83: UserWarning: Current file shape ((40, 10)) does not match the previous one ((20, 10)). Current file is: \n",
      "\t/Users/nick/gp/dust/Projects/ABM_DA/experiments/pf_experiments/results/2/noise1/pf_particles_40_agents_20_noise_1.0-1562232998.csv. \n",
      "\tLess than 20% rows missing so continuing\n",
      "/Users/nick/anaconda/envs/py35/lib/python3.6/site-packages/ipykernel_launcher.py:83: UserWarning: Current file shape ((40, 10)) does not match the previous one ((20, 10)). Current file is: \n",
      "\t/Users/nick/gp/dust/Projects/ABM_DA/experiments/pf_experiments/results/2/noise1/pf_particles_40_agents_2_noise_1.0-1562232782.csv. \n",
      "\tLess than 20% rows missing so continuing\n",
      "/Users/nick/anaconda/envs/py35/lib/python3.6/site-packages/ipykernel_launcher.py:83: UserWarning: Current file shape ((40, 10)) does not match the previous one ((20, 10)). Current file is: \n",
      "\t/Users/nick/gp/dust/Projects/ABM_DA/experiments/pf_experiments/results/2/noise1/pf_particles_40_agents_30_noise_1.0-1562233085.csv. \n",
      "\tLess than 20% rows missing so continuing\n",
      "/Users/nick/anaconda/envs/py35/lib/python3.6/site-packages/ipykernel_launcher.py:83: UserWarning: Current file shape ((40, 10)) does not match the previous one ((20, 10)). Current file is: \n",
      "\t/Users/nick/gp/dust/Projects/ABM_DA/experiments/pf_experiments/results/2/noise1/pf_particles_40_agents_40_noise_1.0-1562233202.csv. \n",
      "\tLess than 20% rows missing so continuing\n",
      "/Users/nick/anaconda/envs/py35/lib/python3.6/site-packages/ipykernel_launcher.py:83: UserWarning: Current file shape ((40, 10)) does not match the previous one ((20, 10)). Current file is: \n",
      "\t/Users/nick/gp/dust/Projects/ABM_DA/experiments/pf_experiments/results/2/noise1/pf_particles_40_agents_50_noise_1.0-1562233360.csv. \n",
      "\tLess than 20% rows missing so continuing\n",
      "/Users/nick/anaconda/envs/py35/lib/python3.6/site-packages/ipykernel_launcher.py:83: UserWarning: Current file shape ((40, 10)) does not match the previous one ((20, 10)). Current file is: \n",
      "\t/Users/nick/gp/dust/Projects/ABM_DA/experiments/pf_experiments/results/2/noise1/pf_particles_40_agents_5_noise_1.0-1562232817.csv. \n",
      "\tLess than 20% rows missing so continuing\n",
      "/Users/nick/anaconda/envs/py35/lib/python3.6/site-packages/ipykernel_launcher.py:83: UserWarning: Current file shape ((40, 10)) does not match the previous one ((20, 10)). Current file is: \n",
      "\t/Users/nick/gp/dust/Projects/ABM_DA/experiments/pf_experiments/results/2/noise1/pf_particles_500_agents_10_noise_1.0-1562245226.csv. \n",
      "\tLess than 20% rows missing so continuing\n",
      "/Users/nick/anaconda/envs/py35/lib/python3.6/site-packages/ipykernel_launcher.py:83: UserWarning: Current file shape ((40, 10)) does not match the previous one ((20, 10)). Current file is: \n",
      "\t/Users/nick/gp/dust/Projects/ABM_DA/experiments/pf_experiments/results/2/noise1/pf_particles_500_agents_15_noise_1.0-1562245550.csv. \n",
      "\tLess than 20% rows missing so continuing\n",
      "/Users/nick/anaconda/envs/py35/lib/python3.6/site-packages/ipykernel_launcher.py:83: UserWarning: Current file shape ((40, 10)) does not match the previous one ((20, 10)). Current file is: \n",
      "\t/Users/nick/gp/dust/Projects/ABM_DA/experiments/pf_experiments/results/2/noise1/pf_particles_500_agents_20_noise_1.0-1562246025.csv. \n",
      "\tLess than 20% rows missing so continuing\n",
      "/Users/nick/anaconda/envs/py35/lib/python3.6/site-packages/ipykernel_launcher.py:83: UserWarning: Current file shape ((38, 10)) does not match the previous one ((20, 10)). Current file is: \n",
      "\t/Users/nick/gp/dust/Projects/ABM_DA/experiments/pf_experiments/results/2/noise1/pf_particles_500_agents_2_noise_1.0-1562244961.csv. \n",
      "\tLess than 20% rows missing so continuing\n",
      "/Users/nick/anaconda/envs/py35/lib/python3.6/site-packages/ipykernel_launcher.py:83: UserWarning: Current file shape ((40, 10)) does not match the previous one ((20, 10)). Current file is: \n",
      "\t/Users/nick/gp/dust/Projects/ABM_DA/experiments/pf_experiments/results/2/noise1/pf_particles_500_agents_30_noise_1.0-1562246633.csv. \n",
      "\tLess than 20% rows missing so continuing\n",
      "/Users/nick/anaconda/envs/py35/lib/python3.6/site-packages/ipykernel_launcher.py:83: UserWarning: Current file shape ((40, 10)) does not match the previous one ((20, 10)). Current file is: \n",
      "\t/Users/nick/gp/dust/Projects/ABM_DA/experiments/pf_experiments/results/2/noise1/pf_particles_500_agents_40_noise_1.0-1562247570.csv. \n",
      "\tLess than 20% rows missing so continuing\n",
      "/Users/nick/anaconda/envs/py35/lib/python3.6/site-packages/ipykernel_launcher.py:83: UserWarning: Current file shape ((40, 10)) does not match the previous one ((20, 10)). Current file is: \n",
      "\t/Users/nick/gp/dust/Projects/ABM_DA/experiments/pf_experiments/results/2/noise1/pf_particles_500_agents_50_noise_1.0-1562248845.csv. \n",
      "\tLess than 20% rows missing so continuing\n",
      "/Users/nick/anaconda/envs/py35/lib/python3.6/site-packages/ipykernel_launcher.py:83: UserWarning: Current file shape ((40, 10)) does not match the previous one ((20, 10)). Current file is: \n",
      "\t/Users/nick/gp/dust/Projects/ABM_DA/experiments/pf_experiments/results/2/noise1/pf_particles_500_agents_5_noise_1.0-1562245061.csv. \n",
      "\tLess than 20% rows missing so continuing\n"
     ]
    },
    {
     "name": "stdout",
     "output_type": "stream",
     "text": [
      "...finished reading 124 files\n"
     ]
    },
    {
     "name": "stderr",
     "output_type": "stream",
     "text": [
      "/Users/nick/anaconda/envs/py35/lib/python3.6/site-packages/ipykernel_launcher.py:83: UserWarning: Current file shape ((18, 10)) does not match the previous one ((20, 10)). Current file is: \n",
      "\t/Users/nick/gp/dust/Projects/ABM_DA/experiments/pf_experiments/results/2/noise1/pf_particles_7500_agents_20_noise_1.0-1562343040.csv. \n",
      "\tLess than 20% rows missing so continuing\n",
      "/Users/nick/anaconda/envs/py35/lib/python3.6/site-packages/ipykernel_launcher.py:83: UserWarning: Current file shape ((40, 10)) does not match the previous one ((20, 10)). Current file is: \n",
      "\t/Users/nick/gp/dust/Projects/ABM_DA/experiments/pf_experiments/results/2/noise1/pf_particles_7500_agents_30_noise_1.0-1562249259.csv. \n",
      "\tLess than 20% rows missing so continuing\n"
     ]
    }
   ],
   "source": [
    "# From now on refer to the lists of agents and particles using different names (TODO: refactor)\n",
    "particles = num_par\n",
    "agents = num_age\n",
    "\n",
    "\n",
    "if not os.path.isdir(path):\n",
    "    sys.exit(\"Directory '{}' does not exist\".format(path))\n",
    "\n",
    "\n",
    "def is_duplicate(fname, files):\n",
    "    \"\"\"\n",
    "    Sees if `fname` already exists in the `duplicates` list. Needs to strip off the integers at the end of\n",
    "    the file (these were added by the Particle Filter script to prevent overridding experiments).\n",
    "    :param fname:\n",
    "    :param duplicates:\n",
    "    :return: True if this file exists already, false otherwise\n",
    "    \"\"\"\n",
    "    regex = re.compile(r\"(.*?)-\\d*\\.csv\") # Find everthing before the numbers at the end of the filename\n",
    "    fname_stripped = re.findall(regex, fname)[0]\n",
    "    for f in files:\n",
    "        if re.findall(regex, f)[0] == fname_stripped:\n",
    "            return True # There is a duplicate\n",
    "    return False # No duplicates found\n",
    "\n",
    "\n",
    "files = []\n",
    "duplicates = [] # List of diplicate files\n",
    "# r=root, d=directories, f = files\n",
    "for r, d, f in os.walk(path):\n",
    "    for file in f:\n",
    "        if '.csv' in file:\n",
    "            fname = os.path.join(r, file)\n",
    "            if is_duplicate(fname, files):\n",
    "                duplicates.append(fname)\n",
    "            else:\n",
    "                files.append(fname)\n",
    "\n",
    "if len(files) == 0:\n",
    "    sys.exit(\"Found no files in {}, can't continue\".format(path) )\n",
    "elif len(duplicates) > 0:\n",
    "    warnings.warn(\"Found {} duplicate files:\\n\\t{}\".format(len(duplicates), \"\\n\\t\".join(duplicates)))\n",
    "else:\n",
    "    print(\"Found {} files\".format(len(files)))\n",
    "\n",
    "\n",
    "# Errors are a matrix of particles * agents. These are a tuple because the errors\n",
    "# are calculated before and after resampling\n",
    "\n",
    "def init_matrix():\n",
    "    return ( np.zeros(shape=(len(particles),len(agents))), np.zeros(shape=(len(particles),len(agents))) )\n",
    "\n",
    "min_mean_err = init_matrix()\n",
    "max_mean_err = init_matrix()\n",
    "ave_mean_err = init_matrix() # Mean of the mean errors\n",
    "med_mean_err = init_matrix() # Median of the mean errors\n",
    "min_abs_err  = init_matrix()\n",
    "max_abs_err  = init_matrix()\n",
    "ave_abs_err  = init_matrix() # Mean of the mean errors\n",
    "med_abs_err  = init_matrix() # Median of the mean errors\n",
    "min_var      = init_matrix()\n",
    "max_var      = init_matrix()\n",
    "ave_var      = init_matrix()\n",
    "med_var      = init_matrix()\n",
    "\n",
    "# Regular expressions to find the particle number and population total from json-formatted info at the start of the file\n",
    "particle_num_re = re.compile(r\".*?'number_of_particles': (\\d*).*?\")\n",
    "agent_num_re = re.compile(r\".*?'pop_total': (\\d*).*?\")\n",
    "\n",
    "print(\"Reading files....\",)\n",
    "data_shape = None # Check each file has a consistent shape\n",
    "for i, f in enumerate(files):\n",
    "\n",
    "    file = open(f,\"r\").read()\n",
    "    #data = pd.read_csv(f, header = 2).replace('on',np.nan)\n",
    "    data = pd.read_csv(f, header=2).replace('on', np.nan)\n",
    "    # Check that each file has a consistent shape\n",
    "    if i==0:\n",
    "        data_shape=data.shape\n",
    "    if data.shape != data_shape:\n",
    "        # If the columns are the same and there are only a few (20%) rows missing then just continue\n",
    "        if ( data_shape[1] == data.shape[1] ) and ( data.shape[0] > int(data_shape[0] - data_shape[0]*0.2) ):\n",
    "            warnings.warn(\"Current file shape ({}) does not match the previous one ({}). Current file is: \\n\\t{}. \\n\\tLess than 20% rows missing so continuing\".format(\n",
    "                                  str(data.shape), str(data_shape), f ))\n",
    "        # Can exit if the shapes are too bad (turn this off for now)\n",
    "        #else:\n",
    "        #    sys.exit(\"Current file shape ({}) does not match the previous one ({}). Current file is: \\n\\t{}. \\n\\tNot continuing\".format(\n",
    "        #            str(data.shape), str(data_shape), f  ))\n",
    "\n",
    "    # Filter by whether errors are before or after (NOW DONE LATER, THIS CAN GO)\n",
    "    #data = data[ data.loc[:,'Before_resample?'] == before]\n",
    "\n",
    "    # Find the particle number and population total from json-formatted info at the start of the file\n",
    "    search = re.findall(particle_num_re, file)\n",
    "    try:\n",
    "        particle_num = int(search[0])\n",
    "    except:\n",
    "        sys.exit(\"Error: could not find the number of particles in the header for file \\n\\t{}\\n\\tFound: '{}'\".format(f, search))\n",
    "    search = re.findall(agent_num_re, file)\n",
    "    try:\n",
    "        agent_num = int(search[0])\n",
    "    except:\n",
    "        sys.exit(\"Error: could not find the number of agents in the header for file \\n\\t{}\\n\\tFound: '{}'\".format(f, search))\n",
    "        \n",
    "    # Calculate the statstics before and after resampling\n",
    "    for before in [0,1]:\n",
    "        d = data[ data.loc[:,'Before_resample?'] == before] # Filter data\n",
    "\n",
    "        data_mean =  d.mean() # Calculate the mean of all columns\n",
    "        data_median = d.median() # and also sometimes use median\n",
    "\n",
    "        min_mean_err[before][particles.index(particle_num),agents.index(agent_num)] = data_mean['Min_Mean_errors']\n",
    "        max_mean_err[before][particles.index(particle_num),agents.index(agent_num)] = data_mean['Max_Mean_errors']\n",
    "        ave_mean_err[before][particles.index(particle_num),agents.index(agent_num)] = data_mean['Average_mean_errors']\n",
    "        med_mean_err[before][particles.index(particle_num),agents.index(agent_num)] = data_median['Average_mean_errors']\n",
    "        min_abs_err [before][particles.index(particle_num),agents.index(agent_num)] = data_mean['Min_Absolute_errors']\n",
    "        max_abs_err [before][particles.index(particle_num),agents.index(agent_num)] = data_mean['Max_Absolute_errors']\n",
    "        ave_abs_err [before][particles.index(particle_num),agents.index(agent_num)] = data_mean['Average_Absolute_errors']\n",
    "        med_abs_err [before][particles.index(particle_num),agents.index(agent_num)] = data_median['Average_Absolute_errors']\n",
    "        min_var     [before][particles.index(particle_num),agents.index(agent_num)] = data_mean['Min_variances']\n",
    "        max_var     [before][particles.index(particle_num),agents.index(agent_num)] = data_mean['Max_variances']\n",
    "        ave_var     [before][particles.index(particle_num),agents.index(agent_num)] = data_mean['Average_variances']\n",
    "        med_var     [before][particles.index(particle_num),agents.index(agent_num)] = data_median['Average_variances']\n",
    "        \n",
    "# There will never be zero error, so replace 0s with NA\n",
    "data[data == 0] = np.nan        \n",
    "\n",
    "print(\"...finished reading {} files\".format(len(files)))"
   ]
  },
  {
   "cell_type": "markdown",
   "metadata": {},
   "source": [
    "Sanity check:"
   ]
  },
  {
   "cell_type": "code",
   "execution_count": 4,
   "metadata": {},
   "outputs": [
    {
     "name": "stdout",
     "output_type": "stream",
     "text": [
      "Max errors (mean) (before/after): 105.05834173855209 / 59.19515462293167\n",
      "Min errors (before/after): 5.3279555391723585 / 5.3279555391723585\n",
      "In 17 / 136 experiments resampling *increased* the mean error\n"
     ]
    }
   ],
   "source": [
    "# Max error after resampling should be less than before resampling\n",
    "print(f\"Max errors (mean) (before/after): {max_mean_err[0].max()} / {max_mean_err[1].max()}\")\n",
    "assert max_mean_err[1].max() < max_mean_err[0].max() \n",
    "# Min error should not have gone up\n",
    "print(f\"Min errors (before/after): {min_mean_err[0].max()} / {min_mean_err[1].max()}\")\n",
    "assert min_mean_err[1].max() <= min_mean_err[0].max()\n",
    "# Average errors should mostly have gone down (wont always happen due to addition of particle noise)\n",
    "false_count = 0\n",
    "total = 0\n",
    "for b,a in zip(ave_mean_err[0], ave_mean_err[1]):\n",
    "    total += len(b)\n",
    "    for i in range(len(b)):\n",
    "        if b[i] < a[i]:\n",
    "            false_count += 1\n",
    "print(f\"In {false_count} / {total} experiments resampling *increased* the mean error\")"
   ]
  },
  {
   "cell_type": "markdown",
   "metadata": {},
   "source": [
    "## Plot the results"
   ]
  },
  {
   "cell_type": "markdown",
   "metadata": {},
   "source": [
    "### Sampling locations\n",
    "\n",
    "Because the experiments are distributed across the agents/particles parameter space we need to create a grid and interpolate to show how the error varies"
   ]
  },
  {
   "cell_type": "code",
   "execution_count": 5,
   "metadata": {},
   "outputs": [
    {
     "data": {
      "text/plain": [
       "Text(0.5, 1.0, 'Sampling locations of experiments')"
      ]
     },
     "execution_count": 5,
     "metadata": {},
     "output_type": "execute_result"
    },
    {
     "data": {
      "image/png": "[encoded data removed]",
      "text/plain": [
       "<Figure size 432x288 with 1 Axes>"
      ]
     },
     "metadata": {
      "needs_background": "light"
     },
     "output_type": "display_data"
    }
   ],
   "source": [
    "# First plot all of the locations in the grids for which we have data (these are\n",
    "# not necessarily evenly spaced).\n",
    "# See here for instructions on how to do heatmap with irregularly spaced data:\n",
    "# https://scipy-cookbook.readthedocs.io/items/Matplotlib_Gridding_irregularly_spaced_data.html\n",
    "\n",
    "# Define the grid.\n",
    "# First need the points that the observations are taken at\n",
    "x, y = [], []\n",
    "for i in range(len(agents)):\n",
    "    for j in range(len(particles)):\n",
    "        x.append(agents[i])\n",
    "        if uselog:\n",
    "            y.append(np.log(particles[j]))\n",
    "        else:\n",
    "            y.append(particles[j])\n",
    "x = np.array(x)\n",
    "y = np.array(y)\n",
    "\n",
    "# Now the grid to interpolate over (used later)\n",
    "xi = np.linspace(0,max(agents)   ,100)\n",
    "yi = None\n",
    "if uselog:\n",
    "    yi = np.geomspace(0.01,np.log(max(particles)),100)\n",
    "else:\n",
    "    yi = np.linspace(0,max(particles),100)\n",
    "\n",
    "# Plot the point locations\n",
    "plt.figure(0)\n",
    "plt.scatter(x=x, y=y, marker='o',c='black',s=2)\n",
    "plt.xlabel('Agents')\n",
    "plt.ylabel('Log Particles' if uselog else 'Particles')\n",
    "plt.title(\"Sampling locations of experiments\")"
   ]
  },
  {
   "cell_type": "markdown",
   "metadata": {},
   "source": [
    "Also need plot definitions so it is easy to extract the required data"
   ]
  },
  {
   "cell_type": "code",
   "execution_count": 6,
   "metadata": {},
   "outputs": [],
   "source": [
    "# Define the plots so that they can be plotted in a loop\n",
    "plot_def = {\n",
    "    \"Min absolute error\" : min_mean_err,\n",
    "    \"Max absolute error\" : max_mean_err,\n",
    "    \"Avg absolute error\" : ave_mean_err,\n",
    "    \"Median mean error\":  med_mean_err,\n",
    "    \"Min absolute error\"  : min_abs_err,\n",
    "    \"Max absolute error\"  : max_abs_err,\n",
    "    \"Avg absolute error\"  : ave_abs_err,\n",
    "    \"Median absolute error\": med_abs_err,\n",
    "    \"Min variance\"   : min_var,\n",
    "    \"Max variance\"   : max_var,\n",
    "    \"Avg variance\"  : ave_var,\n",
    "    \"Median variance\"  : med_var\n",
    "    }"
   ]
  },
  {
   "cell_type": "markdown",
   "metadata": {},
   "source": [
    "And some functions / other parameters that are consistent across all plots:"
   ]
  },
  {
   "cell_type": "code",
   "execution_count": 7,
   "metadata": {},
   "outputs": [],
   "source": [
    "# Some things that are consistent across all the plots\n",
    "_xlabel = 'Number of Agents'\n",
    "_ylabel = lambda x: 'Log(n) Number of Particles' if x else 'Number of Particles'\n",
    "\n",
    "# Font sizes (from https://stackoverflow.com/questions/3899980/how-to-change-the-font-size-on-a-matplotlib-plot)\n",
    "SMALL_SIZE = 10\n",
    "MEDIUM_SIZE = 11\n",
    "BIGGER_SIZE = 13\n",
    "plt.rc('font', size=SMALL_SIZE)          # controls default text sizes\n",
    "plt.rc('axes', titlesize=SMALL_SIZE)     # fontsize of the axes title\n",
    "plt.rc('axes', labelsize=MEDIUM_SIZE)    # fontsize of the x and y labels\n",
    "plt.rc('xtick', labelsize=SMALL_SIZE)    # fontsize of the tick labels\n",
    "plt.rc('ytick', labelsize=SMALL_SIZE)    # fontsize of the tick labels\n",
    "plt.rc('legend', fontsize=SMALL_SIZE)    # legend fontsize\n",
    "plt.rc('figure', titlesize=BIGGER_SIZE)  # fontsize of the figure title\n",
    "plt.rc('axes', titlesize=BIGGER_SIZE)    # fontsize of the figure title (when using axes)\n",
    "\n",
    "def make_z(d):\n",
    "    \"\"\"Calculate the value of the statistic being visualised (e.g. mean_error) as a long list\"\"\"\n",
    "    z = []\n",
    "    for i in range(len(agents)):\n",
    "        for j in range(len(particles)):\n",
    "            z.append(d[j,i])\n",
    "    assert len(x) == len(y) and len(x) == len(z)\n",
    "    return np.array(z)\n",
    "\n",
    "def make_zi(z):\n",
    "    \"\"\"Grid the data\"\"\"\n",
    "    return griddata(points=(x, y),\n",
    "              values=z,\n",
    "              xi=(xi[None,:], yi[:,None]),\n",
    "              method=interpolate_method)"
   ]
  },
  {
   "cell_type": "markdown",
   "metadata": {},
   "source": [
    "### Headline Plot: Median error after resampling\n",
    "\n",
    "\n",
    "The headline: how the error changes with number of particles v.s. number of agents."
   ]
  },
  {
   "cell_type": "code",
   "execution_count": 8,
   "metadata": {},
   "outputs": [
    {
     "data": {
      "image/png": "[encoded data removed]",
      "text/plain": [
       "<Figure size 1408x896 with 2 Axes>"
      ]
     },
     "metadata": {},
     "output_type": "display_data"
    }
   ],
   "source": [
    "# Title and array\n",
    "title = \"Median absolute error\"\n",
    "d = plot_def[title][1] # Index 1 for the array created *after* resampling\n",
    "\n",
    "# Calculate the value of the error statistic as a long list\n",
    "z = make_z(d)\n",
    "\n",
    "# Turn that into a grid\n",
    "zi = make_zi(z)\n",
    "\n",
    "fig = plt.figure(num=None, figsize=(11, 7), dpi=128, facecolor='w', edgecolor='k')\n",
    "ax = fig.add_subplot(111)\n",
    "cs1 = plt.contour( xi,yi,zi,8,linewidths=0.5,colors='k')\n",
    "cs2 = plt.contourf(xi,yi,zi,8,cmap=plt.cm.jet)\n",
    "plt.colorbar() # draw colorbar\n",
    "#plt.scatter(x,y,marker='o',c=[cs2.get_cmap()(val) for val in z], s=2)\n",
    "plt.scatter(x,y,marker='o',c=z, cmap=cs2.get_cmap(), s=5)\n",
    "plt.xlabel(_xlabel)\n",
    "plt.ylabel(_ylabel(uselog))\n",
    "# Make the numbers not logged\n",
    "#locs, labels = plt.yticks() # So that numbers are not logged \n",
    "#plt.yticks(locs, [math.exp(int(x.get_text())) if int(x.get_text().replace(\"'\",'')) > 0 else '' for x in labels]) \n",
    "plt.title(title+\" (after resampling)\", fontsize=16)\n",
    "#plt.show()\n",
    "plt.savefig(\"figs_for_pf_paper/median_abs_error.pdf\", bbox_inches=\"tight\")\n",
    "del(z, d, zi) # tidy up"
   ]
  },
  {
   "cell_type": "markdown",
   "metadata": {},
   "source": [
    "### Visualising Individual PF instances\n",
    "\n",
    "What does that error actually mean in practice? Take a snaphsot of a high- and low- error PF implementation while it's running to give an idea about how close it gets to the 'real' system"
   ]
  },
  {
   "cell_type": "code",
   "execution_count": 9,
   "metadata": {},
   "outputs": [],
   "source": [
    "# These are the basic parameter settings required. \n",
    "# We will chance the number of particles and agents to see what the experiments are like\n",
    "\n",
    "model_params = {\n",
    "    'width': 200,\n",
    "    'height': 100,\n",
    "    'pop_total': 10, # IMPORTANT: number of agents\n",
    "    'speed_min': .1,\n",
    "    'separation': 2,\n",
    "    'batch_iterations': 4000,  # Only relevant in batch() mode\n",
    "    'do_history': False,\n",
    "    'do_print': False,\n",
    "}\n",
    "# Model(model_params).batch() # Runs the model as normal (one run)\n",
    "\n",
    "filter_params = {\n",
    "    'number_of_particles': 10, #IMPORTANT: number of particles\n",
    "    'number_of_runs': 1,  # Number of times to run each particle filter configuration\n",
    "    'resample_window': 100,\n",
    "    'multi_step': True,  # Whether to predict() repeatedly until the sampling window is reached\n",
    "    'particle_std': 1.0, # Noise added to particles\n",
    "    'model_std': 1.0, # Observation noise\n",
    "    'agents_to_visualise': 10,\n",
    "    'do_save': True,\n",
    "    'plot_save': False,\n",
    "    'do_ani': True, # Do the animation (generatea plot at each data assimilation window)\n",
    "    'show_ani': False, # Don't actually show the animation. They can be extracted later from self.animation\n",
    "}"
   ]
  },
  {
   "cell_type": "markdown",
   "metadata": {},
   "source": [
    "#### 10 agents, 10 particles, First two windows\n",
    "\n",
    "This shows that with only a few agents there is very little stochasticity, so even with only 10 particles the system is easy to estimate."
   ]
  },
  {
   "cell_type": "code",
   "execution_count": 10,
   "metadata": {},
   "outputs": [
    {
     "name": "stdout",
     "output_type": "stream",
     "text": [
      "Using matplotlib backend: MacOSX\n",
      "BadKeyWarning: batch_iterations is not a model parameter.\n",
      "Running filter with 10 particles and 1 runs (on 16 cores) with 10 agents.\n",
      "Starting particle filter step()\n",
      "\tFinished window 1, step 100 (took 0.74s)\n",
      "\tFinished window 2, step 200 (took 0.34s)\n",
      "\tFinished window 3, step 300 (took 0.08s)\n"
     ]
    }
   ],
   "source": [
    "# Temporarily turn off plotting (the 'show_ani' should stop plots being displayed,\n",
    "# but doesn't work for some reason)\n",
    "%matplotlib auto\n",
    "\n",
    "model_params['pop_total'] = 10\n",
    "filter_params['number_of_particles'] = 10\n",
    "pf = ParticleFilter(Model, model_params, filter_params, numcores = int(multiprocessing.cpu_count()))\n",
    "result = pf.step() # Run the particle filter\n",
    "\n",
    "# For some reason the pool doesn't always kill it's child processes (notebook problem?)\n",
    "pf.pool.close() \n",
    "\n",
    "# Turn on inline plotting again\n",
    "%matplotlib inline"
   ]
  },
  {
   "cell_type": "code",
   "execution_count": 11,
   "metadata": {},
   "outputs": [
    {
     "data": {
      "image/png": "[encoded data removed]",
      "text/plain": [
       "<Figure size 432x288 with 1 Axes>"
      ]
     },
     "execution_count": 11,
     "metadata": {},
     "output_type": "execute_result"
    }
   ],
   "source": [
    "pf.animation[0]"
   ]
  },
  {
   "cell_type": "code",
   "execution_count": 12,
   "metadata": {},
   "outputs": [
    {
     "data": {
      "image/png": "[encoded data removed]",
      "text/plain": [
       "<Figure size 432x288 with 1 Axes>"
      ]
     },
     "execution_count": 12,
     "metadata": {},
     "output_type": "execute_result"
    }
   ],
   "source": [
    "pf.animation[1]"
   ]
  },
  {
   "cell_type": "markdown",
   "metadata": {},
   "source": [
    "If we want to re-save the images (don't necessarily want to do this if I was happy with the preivous ones they vary slightly each time the model runs."
   ]
  },
  {
   "cell_type": "code",
   "execution_count": 14,
   "metadata": {},
   "outputs": [],
   "source": [
    "#pf.animation[0].savefig(\"figs_for_pf_paper/ani-10agents-10particles-window100.pdf\", bbox_inches=\"tight\")\n",
    "#pf.animation[1].savefig(\"figs_for_pf_paper/ani-10agents-10particles-window200.pdf\", bbox_inches=\"tight\")"
   ]
  },
  {
   "cell_type": "markdown",
   "metadata": {},
   "source": [
    "#### 50 agents, 10 particles, First three windows\n",
    "\n",
    "With 50 agents and still only 10 particles we start to see some agents being very poorly simulated. There are examples of XXXX (no particles correctly simulating an agent)"
   ]
  },
  {
   "cell_type": "code",
   "execution_count": 37,
   "metadata": {},
   "outputs": [
    {
     "name": "stdout",
     "output_type": "stream",
     "text": [
      "Using matplotlib backend: MacOSX\n",
      "BadKeyWarning: batch_iterations is not a model parameter.\n",
      "Running filter with 10 particles and 1 runs (on 16 cores) with 50 agents.\n",
      "Starting particle filter step()\n",
      "\tFinished window 1, step 100 (took 3.67s)\n",
      "\tFinished window 2, step 200 (took 2.69s)\n",
      "\tFinished window 3, step 300 (took 1.43s)\n",
      "\tFinished window 4, step 400 (took 0.74s)\n",
      "\tFinished window 5, step 500 (took 0.11s)\n"
     ]
    }
   ],
   "source": [
    "# Temporarily turn off plotting (the 'show_ani' should stop plots being displayed,\n",
    "# but doesn't work for some reason)\n",
    "%matplotlib auto\n",
    "\n",
    "N = 50\n",
    "NP = 10\n",
    "model_params['pop_total'] = N\n",
    "filter_params['number_of_particles'] = NP\n",
    "filter_params['agents_to_visualise'] = N\n",
    "pf = ParticleFilter(Model, model_params, filter_params, numcores = int(multiprocessing.cpu_count()))\n",
    "result = pf.step() # Run the particle filter\n",
    "\n",
    "# For some reason the pool doesn't always kill it's child processes (notebook problem?)\n",
    "pf.pool.close() \n",
    "\n",
    "# Turn on inline plotting again\n",
    "%matplotlib inline"
   ]
  },
  {
   "cell_type": "code",
   "execution_count": 38,
   "metadata": {},
   "outputs": [
    {
     "data": {
      "image/png": "[encoded data removed]",
      "text/plain": [
       "<Figure size 432x288 with 1 Axes>"
      ]
     },
     "execution_count": 38,
     "metadata": {},
     "output_type": "execute_result"
    }
   ],
   "source": [
    "pf.animation[0]"
   ]
  },
  {
   "cell_type": "code",
   "execution_count": 39,
   "metadata": {},
   "outputs": [
    {
     "data": {
      "image/png": "[encoded data removed]",
      "text/plain": [
       "<Figure size 432x288 with 1 Axes>"
      ]
     },
     "execution_count": 39,
     "metadata": {},
     "output_type": "execute_result"
    }
   ],
   "source": [
    "pf.animation[1]"
   ]
  },
  {
   "cell_type": "code",
   "execution_count": 40,
   "metadata": {},
   "outputs": [
    {
     "data": {
      "image/png": "[encoded data removed]",
      "text/plain": [
       "<Figure size 432x288 with 1 Axes>"
      ]
     },
     "execution_count": 40,
     "metadata": {},
     "output_type": "execute_result"
    }
   ],
   "source": [
    "pf.animation[2]"
   ]
  },
  {
   "cell_type": "markdown",
   "metadata": {},
   "source": [
    "If we want to re-save the images the uncomment below (don't necessarily want to do this if I was happy with the preivous ones they vary slightly each time the model runs)."
   ]
  },
  {
   "cell_type": "code",
   "execution_count": 41,
   "metadata": {},
   "outputs": [],
   "source": [
    "#pf.animation[0].savefig(f\"figs_for_pf_paper/ani-{N}agents-{NP}particles-window100.pdf\", bbox_inches=\"tight\")\n",
    "#pf.animation[1].savefig(f\"figs_for_pf_paper/ani-{N}agents-{NP}particles-window200.pdf\", bbox_inches=\"tight\")\n",
    "#pf.animation[2].savefig(f\"figs_for_pf_paper/ani-{N}agents-{NP}particles-window300.pdf\", bbox_inches=\"tight\")"
   ]
  },
  {
   "cell_type": "code",
   "execution_count": null,
   "metadata": {},
   "outputs": [],
   "source": []
  },
  {
   "cell_type": "markdown",
   "metadata": {},
   "source": [
    "#### 50 agents, 5000 particles, First three windows\n",
    "\n",
    "Now with many more particles ..... XXXX HERE"
   ]
  },
  {
   "cell_type": "code",
   "execution_count": null,
   "metadata": {},
   "outputs": [
    {
     "name": "stdout",
     "output_type": "stream",
     "text": [
      "Using matplotlib backend: MacOSX\n",
      "Could not load previously-run PF from file. Re-running code (go and make a cup of tea)\n",
      "BadKeyWarning: batch_iterations is not a model parameter.\n",
      "Running filter with 5000 particles and 1 runs (on 8 cores) with 50 agents.\n",
      "Starting particle filter step()\n"
     ]
    }
   ],
   "source": [
    "# Temporarily turn off plotting (the 'show_ani' should stop plots being displayed,\n",
    "# but doesn't work for some reason)\n",
    "%matplotlib auto\n",
    "\n",
    "N = 50\n",
    "NP = 5000\n",
    "\n",
    "# Try to load the complete particle filter results from a pickled file. If none are available then re-run the PF\n",
    "pf = None\n",
    "pickle_file = f\"./pickles/{N}agents_{NP}particles.pickle\"\n",
    "\n",
    "try:\n",
    "    with open(pickle_file, 'rb') as f:\n",
    "        pf = pickle.load(f)\n",
    "        print(f\"Loaded previous PF run from file {pickle_file}\")\n",
    "except FileNotFoundError as e:\n",
    "    print(\"Could not load previously-run PF from file. Re-running code (go and make a cup of tea)\")\n",
    "    pf = None # (not sure this is necessary)\n",
    "    \n",
    "if pf == None:\n",
    "    \n",
    "    model_params['pop_total'] = N\n",
    "    filter_params['number_of_particles'] = NP\n",
    "    filter_params['agents_to_visualise'] = N\n",
    "    pf = ParticleFilter(Model, model_params, filter_params, numcores = int(multiprocessing.cpu_count()/2))\n",
    "    result = pf.step() # Run the particle filter\n",
    "\n",
    "    # For some reason the pool doesn't always kill it's child processes (notebook problem?)\n",
    "    pf.pool.close()\n",
    "    \n",
    "    pf.pool = None # This is necessary to allow pickling\n",
    "    \n",
    "    # Save the particle filter object as a pickle file\n",
    "    with open(pickle_file, 'wb') as f:\n",
    "        pickle.dump(pf, f)\n",
    "\n",
    "# Turn on inline plotting again\n",
    "%matplotlib inline"
   ]
  },
  {
   "cell_type": "code",
   "execution_count": 45,
   "metadata": {},
   "outputs": [
    {
     "data": {
      "image/png": "[encoded data removed]",
      "text/plain": [
       "<Figure size 432x288 with 1 Axes>"
      ]
     },
     "execution_count": 45,
     "metadata": {},
     "output_type": "execute_result"
    }
   ],
   "source": [
    "pf.animation[0]"
   ]
  },
  {
   "cell_type": "code",
   "execution_count": 46,
   "metadata": {},
   "outputs": [
    {
     "data": {
      "image/png": "[encoded data removed]",
      "text/plain": [
       "<Figure size 432x288 with 1 Axes>"
      ]
     },
     "execution_count": 46,
     "metadata": {},
     "output_type": "execute_result"
    }
   ],
   "source": [
    "pf.animation[1]"
   ]
  },
  {
   "cell_type": "code",
   "execution_count": 47,
   "metadata": {},
   "outputs": [
    {
     "data": {
      "image/png": "[encoded data removed]",
      "text/plain": [
       "<Figure size 432x288 with 1 Axes>"
      ]
     },
     "execution_count": 47,
     "metadata": {},
     "output_type": "execute_result"
    }
   ],
   "source": [
    "pf.animation[2]"
   ]
  },
  {
   "cell_type": "code",
   "execution_count": 23,
   "metadata": {},
   "outputs": [],
   "source": [
    "pf.animation[0].savefig(f\"figs_for_pf_paper/ani-{N}agents-{NP}particles-window100.pdf\", bbox_inches=\"tight\")\n",
    "pf.animation[1].savefig(f\"figs_for_pf_paper/ani-{N}agents-{NP}particles-window200.pdf\", bbox_inches=\"tight\")\n",
    "pf.animation[2].savefig(f\"figs_for_pf_paper/ani-{N}agents-{NP}particles-window300.pdf\", bbox_inches=\"tight\")"
   ]
  },
  {
   "cell_type": "code",
   "execution_count": null,
   "metadata": {},
   "outputs": [],
   "source": []
  },
  {
   "cell_type": "code",
   "execution_count": null,
   "metadata": {},
   "outputs": [],
   "source": []
  },
  {
   "cell_type": "code",
   "execution_count": null,
   "metadata": {},
   "outputs": [],
   "source": []
  },
  {
   "cell_type": "markdown",
   "metadata": {},
   "source": [
    "### Impact of Resampling\n",
    "\n",
    "Plots that show how resampling reduced the error of the population of particles"
   ]
  },
  {
   "cell_type": "code",
   "execution_count": null,
   "metadata": {},
   "outputs": [],
   "source": [
    "# Title and array\n",
    "title = \"Median absolute error\"\n",
    "d0 = plot_def[title][0] # Index 1 for the array created *beforer* resampling\n",
    "d1 = plot_def[title][1] # Index 1 for the array created *after* resampling\n",
    "\n",
    "# Calculate the value of the error statistic as a long list\n",
    "z0 = make_z(d0)\n",
    "z1 = make_z(d1)\n",
    "\n",
    "# Turn that into a grid\n",
    "zi0 = make_zi(z0)\n",
    "zi1 = make_zi(z1)\n",
    "\n",
    "fig = plt.figure(num=None, figsize=(11, 5), dpi=128, facecolor='w', edgecolor='k')\n",
    "\n",
    "ax0 = plt.subplot(121) #nrows, ncols, index,\n",
    "cs1 = plt.contour( xi,yi,zi0,8,linewidths=0.5,colors='k')\n",
    "cs2 = plt.contourf(xi,yi,zi0,8,cmap=plt.cm.jet)\n",
    "plt.colorbar() # draw colorbar\n",
    "plt.scatter(x,y,marker='o',c=z0, cmap=cs2.get_cmap(), s=5)\n",
    "plt.xlabel(_xlabel)\n",
    "plt.ylabel(_ylabel(uselog))\n",
    "plt.title(f\"{title}\\nbefore resampling)\")\n",
    "\n",
    "ax1 = plt.subplot(122) #nrows, ncols, index,\n",
    "cs1 = plt.contour( xi,yi,zi1,8,linewidths=0.5,colors='k')\n",
    "cs2 = plt.contourf(xi,yi,zi1,8,cmap=plt.cm.jet)\n",
    "plt.colorbar() # draw colorbar\n",
    "plt.scatter(x,y,marker='o',c=z1, cmap=cs2.get_cmap(), s=5)\n",
    "plt.xlabel(_xlabel)\n",
    "#plt.ylabel(_ylabel(uselog))\n",
    "plt.title(f\"{title}\\nafter resampling\")\n",
    "\n",
    "#plt.show()\n",
    "plt.savefig(\"figs_for_pf_paper/resampling.pdf\", bbox_inches=\"tight\")\n"
   ]
  },
  {
   "cell_type": "markdown",
   "metadata": {},
   "source": [
    "### Impact of Noise\n",
    "\n",
    "Plots that show the impact of changing the amount of particle noise from $\\sigma_p=1$ to $\\sigma_p=2$"
   ]
  },
  {
   "cell_type": "code",
   "execution_count": null,
   "metadata": {},
   "outputs": [],
   "source": [
    "XXXX\n",
    "\n",
    "plt.figure(1)\n",
    "plt.subplot(211) #nrows, ncols, index,\n",
    "plt.plot(t1, f(t1), 'bo', t2, f(t2), 'k')\n",
    "\n",
    "plt.subplot(212) #nrows, ncols, index,\n",
    "plt.plot(t2, np.cos(2*np.pi*t2), 'r--')\n",
    "plt.show()\n",
    "\n"
   ]
  },
  {
   "cell_type": "code",
   "execution_count": null,
   "metadata": {},
   "outputs": [],
   "source": []
  },
  {
   "cell_type": "code",
   "execution_count": null,
   "metadata": {},
   "outputs": [],
   "source": []
  },
  {
   "cell_type": "code",
   "execution_count": null,
   "metadata": {},
   "outputs": [],
   "source": []
  },
  {
   "cell_type": "markdown",
   "metadata": {},
   "source": [
    "### All plots\n",
    "\n",
    "Do all plots at once"
   ]
  },
  {
   "cell_type": "code",
   "execution_count": null,
   "metadata": {},
   "outputs": [],
   "source": [
    "for before in [0,1]:\n",
    "    for i, (title, d) in enumerate(plot_def.items()): # d is the data to plot (an np array)\n",
    "        \n",
    "        d = d[before] # d is a tuple (data before and data after)\n",
    "        \n",
    "        # The value of the statistic being visualised (e.g. mean_error) as a long list\n",
    "        z = []\n",
    "        for i in range(len(agents)):\n",
    "            for j in range(len(particles)):\n",
    "                z.append(d[j,i])\n",
    "        assert len(x) == len(y) and len(x) == len(z)\n",
    "        z = np.array(z)\n",
    "        # Grid the data\n",
    "        zi = griddata(points=(x, y),\n",
    "                      values=z,\n",
    "                      xi=(xi[None,:], yi[:,None]),\n",
    "                      method=interpolate_method)\n",
    "    \n",
    "        plt.figure(i+1) # (+1 because there was a figure before)\n",
    "        cs1 = plt.contour( xi,yi,zi,8,linewidths=0.5,colors='k')\n",
    "        cs2 = plt.contourf(xi,yi,zi,8,cmap=plt.cm.jet)\n",
    "        plt.colorbar() # draw colorbar\n",
    "        #plt.scatter(x,y,marker='o',c=[cs2.get_cmap()(val) for val in z], s=2)\n",
    "        plt.scatter(x,y,marker='o',c=z, cmap=cs2.get_cmap(), s=5)\n",
    "        plt.xlabel('Agents')\n",
    "        plt.ylabel('Log Particles' if uselog else 'Particles')\n",
    "        plt.title(title+\" ({} resampling)\".format('before' if before==0 else 'after') )\n",
    "        plt.show()\n",
    "\n",
    "print(\"Finished.\")"
   ]
  }
 ],
 "metadata": {
  "kernelspec": {
   "display_name": "Python 3",
   "language": "python",
   "name": "python3"
  },
  "language_info": {
   "codemirror_mode": {
    "name": "ipython",
    "version": 3
   },
   "file_extension": ".py",
   "mimetype": "text/x-python",
   "name": "python",
   "nbconvert_exporter": "python",
   "pygments_lexer": "ipython3",
   "version": "3.6.5"
  }
 },
 "nbformat": 4,
 "nbformat_minor": 2
}
