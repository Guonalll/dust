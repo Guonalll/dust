{
 "cells": [
  {
   "cell_type": "markdown",
   "metadata": {},
   "source": [
    "## Unscented Kalman Filter\n",
    "\n",
    "This experiment demonstrates the new generalised class for the UKF. We introduce the method needed to apply this generalised class and present two such modules used for experiments of random omission and aggregation respectively. First, we import the necessary packages.\n"
   ]
  },
  {
   "cell_type": "code",
   "execution_count": 11,
   "metadata": {},
   "outputs": [],
   "source": [
    "\"used for a number of things\"\n",
    "import os\n",
    "import sys \n",
    "import numpy as np\n",
    "from math import floor\n",
    "\n",
    "\"timer\"\n",
    "import datetime \n",
    "\n",
    "\"used to save class instances when run finished.\"\n",
    "import pickle \n",
    "\n",
    "from ukf_experiments.ukf_fx import fx\n",
    "#from ukf_ex1 import omission_params\n",
    "from ukf_experiments.ukf_ex2 import aggregate_params \n",
    "from ukf_experiments.ukf_plots import ukf_plots\n",
    "\n",
    "\"import stationsim model\"\n",
    "sys.path.append(\"..\")\n",
    "from stationsim.stationsim_model import Model\n",
    "from stationsim.ukf2 import ukf_ss\n"
   ]
  },
  {
   "cell_type": "markdown",
   "metadata": {},
   "source": [
    "## Experiment 1\n",
    "\n",
    "We first demonstrate a quick overview usage of this filter for experiment 1 (random omission). We have two dictionaries of parameters, named `model_params` and `ukf_params`, for parameters pertaining to the model and filter respectively."
   ]
  },
  {
   "cell_type": "code",
   "execution_count": 12,
   "metadata": {},
   "outputs": [],
   "source": [
    "\"\"\"\n",
    "width - corridor width\n",
    "height - corridor height\n",
    "\n",
    "gates_in - how many entrances\n",
    "gates_out - how many exits\n",
    "gates_space - how wide are exits \n",
    "gates_speed - mean entry speed for agents\n",
    "\n",
    "speed_min - minimum agents speed to prevent ridiculuous iteration numbers\n",
    "speed_mean - desired mean of normal distribution of speed of agents\n",
    "speed_std - as above but standard deviation\n",
    "speed_steps - how many levels of speed between min and max for each agent\n",
    "\n",
    "separation - agent radius to determine collisions\n",
    "wiggle - wiggle distance. how far an agent moves laterally to avoid agent in front.\n",
    "\n",
    "step_limit - maximum number of model steps.\n",
    "\n",
    "do_* - bools for saving plotting and animating data. \n",
    "\"\"\"\n",
    "model_params = {\n",
    "\n",
    "'width': 200,\n",
    "'height': 100,\n",
    "\n",
    "'gates_in': 3,\n",
    "'gates_out': 2,\n",
    "'gates_space': 1,\n",
    "'gates_speed': 1,\n",
    "\n",
    "'speed_min': .2,\n",
    "'speed_mean': 1,\n",
    "'speed_std': 1,\n",
    "'speed_steps': 3,\n",
    "\n",
    "'separation': 5,\n",
    "'max_wiggle': 1,\n",
    "\n",
    "'step_limit': 3600,\n",
    "\n",
    "'do_history': True,\n",
    "'do_print': True,\n",
    "}\n",
    "\"\"\"\n",
    "sample_rate - how often to update kalman filter. higher number gives smoother predictions\n",
    "do_batch - do batch processing on some pre-recorded truth data.\n",
    "bring_noise - add noise to measurements?\n",
    "noise - variance of added noise\n",
    "a - alpha between 1 and 1e-4 typically determines spread of sigma points.\n",
    "    however for large dimensions may need to be even higher\n",
    "b - beta set to 2 for gaussian. determines trust in prior distribution.\n",
    "k - kappa usually 0 for state estimation and 3-dim(state) for parameters.\n",
    "    not 100% sure what kappa does. think its a bias parameter.\n",
    "\"\"\"\n",
    "\n",
    "ukf_params = {      \n",
    "\n",
    "'sample_rate' : 5,\n",
    "\"do_restrict\" : True, \n",
    "\"bring_noise\" : True,\n",
    "\"noise\" : 0.5,\n",
    "\"do_batch\" : False,\n",
    "\n",
    "\"a\": 1,\n",
    "\"b\": 2,\n",
    "\"k\": 0,\n",
    "\n",
    "}"
   ]
  },
  {
   "cell_type": "markdown",
   "metadata": {},
   "source": [
    "With our base parameters defined we now add bespoke parameters specific to the desired experiment. These parameters always include the initial state covariance, process, and sensor noise matrices (`p`, `q`, and `r`) as well as some transition and measurement functions (`fx` and `hx`). We also include an observation key function, indicating at each time point whether an agent has explicit gps style observation, aggregate observations, or no observations at all. Finally, we will always have some file name with which we can save our class instance and instantly recall the data for plots at some later point. \n",
    "\n",
    "For each experiment we can then introduce further parameters. For example, in experiment 1 the aim is to choose some subset of our agents randomly and omit their position data. Hence, we have two observed and unobserved groups of agents which we need to separate using some index before the model is run. We do this using the omission function `omission_index` which randomly selects agents to observe throughout the model. Our observation key function `obs_key_func` uses this index simply assigning numbers 2 (gps style observed) to observed agents and 0 (unobserved) otherwise.\n",
    "\n",
    "We define `fx` to simply be the transition mechanism for our agent based model stationsim and `hx` to simply take the observed subset of our agents.\n",
    "\n",
    "Finally we have the function `omission_params` which update the `ukf_params` dictionary with all desired values of the above parameters. This dictionary is then ready to be fed into the generalised ukf class."
   ]
  },
  {
   "cell_type": "code",
   "execution_count": 13,
   "metadata": {},
   "outputs": [],
   "source": [
    "def omission_index(n,sample_size):\n",
    "    \n",
    "    \n",
    "    \"\"\"randomly pick agents to omit \n",
    "    used in experiment 1 hx function\n",
    "    \n",
    "    Parameters \n",
    "    ------\n",
    "    n,p : int\n",
    "         population `n` and proportion `p` observed. need p in [0,1]\n",
    "         \n",
    "    Returns\n",
    "    ------\n",
    "    index,index2: array_like:\n",
    "        `index` of which agents are observed and `index2` their correpsoding\n",
    "        index for xy coordinates from the desired state vector.\n",
    "    \"\"\"\n",
    "    index = np.sort(np.random.choice(n,sample_size,replace=False))\n",
    "    index2 = np.repeat(2*index,2)\n",
    "    index2[1::2] += 1\n",
    "    return index, index2\n",
    "\n",
    "def obs_key_func(state, model_params, ukf_params):\n",
    "    \"\"\"which agents are observed\"\"\"\n",
    "    \n",
    "    key = np.zeros(model_params[\"pop_total\"])\n",
    "    key[ukf_params[\"index\"]] +=2\n",
    "    return key\n",
    "\n",
    "def hx1(state, model_params, ukf_params):\n",
    "    \n",
    "    \n",
    "    \"\"\"Convert each sigma point from noisy gps positions into actual measurements\n",
    "    \n",
    "    -   omits pre-definied unobserved agents given by index/index2\n",
    "    \n",
    "    Parameters\n",
    "    ------\n",
    "    state : array_like\n",
    "        desired `state` n-dimensional sigmapoint to be converted\n",
    "\n",
    "    Returns\n",
    "    ------\n",
    "    obs_state : array_like\n",
    "        `obs_state` actual observed state\n",
    "    \"\"\"\n",
    "    obs_state = state[ukf_params[\"index2\"]]\n",
    "    \n",
    "    return obs_state   \n",
    "\n",
    "def omission_params(model_params, ukf_params, prop):\n",
    "    \n",
    "    \n",
    "    \"\"\"update ukf_params with fx/hx and their parameters for experiment 1\n",
    "    \n",
    "    Parameters\n",
    "    ------\n",
    "    ukf_params : dict\n",
    "        \n",
    "    Returns\n",
    "    ------\n",
    "    ukf_params : dict\n",
    "    \"\"\"\n",
    "    n = model_params[\"pop_total\"]\n",
    "    ukf_params[\"prop\"] = prop\n",
    "    ukf_params[\"sample_size\"]= floor(n * ukf_params[\"prop\"])\n",
    "\n",
    "    \n",
    "    ukf_params[\"index\"], ukf_params[\"index2\"] = omission_index(n, ukf_params[\"sample_size\"])\n",
    "    ukf_params[\"p\"] = np.eye(2 * n) #inital guess at state covariance\n",
    "    ukf_params[\"q\"] = np.eye(2 * n)\n",
    "    ukf_params[\"r\"] = np.eye(2 * ukf_params[\"sample_size\"])#sensor noise\n",
    "    \n",
    "    ukf_params[\"fx\"] = fx\n",
    "    ukf_params[\"hx\"] = hx1\n",
    "    \n",
    "    ukf_params[\"obs_key_func\"] = obs_key_func\n",
    "    ukf_params[\"pickle_file_name\"] = f\"ukf_agents_{n}_prop_{prop}.pkl\"    \n",
    "    \n",
    "    \n",
    "    return ukf_params"
   ]
  },
  {
   "cell_type": "markdown",
   "metadata": {},
   "source": [
    "Now apply all the above functions with some specific population size `n` and proportion observed `prop`. We then initialise our ABM and our UKF."
   ]
  },
  {
   "cell_type": "code",
   "execution_count": 14,
   "metadata": {},
   "outputs": [],
   "source": [
    "n=5\n",
    "prop = 0.5\n",
    "model_params[\"pop_total\"] = n\n",
    "ukf_params = omission_params(model_params, ukf_params, prop)\n",
    "\n"
   ]
  },
  {
   "cell_type": "markdown",
   "metadata": {},
   "source": [
    "Finally, we run the model and UKF together using `u.main()`."
   ]
  },
  {
   "cell_type": "code",
   "execution_count": 15,
   "metadata": {},
   "outputs": [
    {
     "name": "stdout",
     "output_type": "stream",
     "text": [
      "\tIteration: 0/3600\n",
      "\tIteration: 100/3600\n",
      "\tIteration: 200/3600\n",
      "\tIteration: 300/3600\n",
      "0:00:17.293876\n"
     ]
    }
   ],
   "source": [
    "base_model = Model(**model_params)\n",
    "u = ukf_ss(model_params,ukf_params,base_model)\n",
    "u.main()"
   ]
  },
  {
   "cell_type": "code",
   "execution_count": null,
   "metadata": {},
   "outputs": [],
   "source": []
  }
 ],
 "metadata": {
  "kernelspec": {
   "display_name": "Python 3",
   "language": "python",
   "name": "python3"
  },
  "language_info": {
   "codemirror_mode": {
    "name": "ipython",
    "version": 3
   },
   "file_extension": ".py",
   "mimetype": "text/x-python",
   "name": "python",
   "nbconvert_exporter": "python",
   "pygments_lexer": "ipython3",
   "version": "3.7.5"
  }
 },
 "nbformat": 4,
 "nbformat_minor": 2
}
