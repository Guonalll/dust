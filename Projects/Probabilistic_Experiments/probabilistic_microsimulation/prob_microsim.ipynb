{
 "cells": [
  {
   "cell_type": "markdown",
   "metadata": {},
   "source": [
    "# Probabilistic Microsimulation\n",
    "\n",
    "Playing around with ideas about probabilistic microsimulation"
   ]
  },
  {
   "cell_type": "code",
   "execution_count": 50,
   "metadata": {},
   "outputs": [],
   "source": [
    "# Initialise\n",
    "\n",
    "import pymc3 as pm\n",
    "\n",
    "from IPython.core.pylabtools import figsize\n",
    "import matplotlib.pyplot as plt\n",
    "import scipy.stats as stats\n",
    "import numpy as np\n",
    "import random\n",
    "import math"
   ]
  },
  {
   "cell_type": "markdown",
   "metadata": {},
   "source": [
    "## Define the population\n",
    "\n",
    "The population is defined by a series of lists; one list for each characteristic of the individuals."
   ]
  },
  {
   "cell_type": "code",
   "execution_count": 51,
   "metadata": {},
   "outputs": [
    {
     "name": "stderr",
     "output_type": "stream",
     "text": [
      "INFO (theano.gof.compilelock): Refreshing lock /Users/nick/.theano/compiledir_Darwin-18.2.0-x86_64-i386-64bit-i386-3.7.1-64/lock_dir/lock\n",
      "INFO (theano.gof.compilelock): Refreshing lock /Users/nick/.theano/compiledir_Darwin-18.2.0-x86_64-i386-64bit-i386-3.7.1-64/lock_dir/lock\n"
     ]
    }
   ],
   "source": [
    "N = 100 # The number of individuals we're going to create\n",
    "a = np.arange(N) # A list of indixces (0, 1, ..., N)\n",
    "\n",
    "# All distributions etc. need to be defined within the context of a pymc model\n",
    "model = pm.Model()\n",
    "\n",
    "# Age is represented using a poisson distribution with the lambda parameter representing the expected age\n",
    "# Lambda is randomly drawn from a normal distribution with mean 30 (mean pop age = 30)\n",
    "pop_ages\n",
    "\n",
    "# Income is also poisson.\n",
    "pop_inc = []\n",
    "\n",
    "# Assume sex is either male or female, so represent with a Bernouilli distribution\n",
    "pop_sex = []\n",
    "\n",
    "\n",
    "\n",
    "with model:\n",
    "    for i in a:\n",
    "        age = abs(random.gauss(mu=30, sigma=20)) # (make absolute so no one is negative age)\n",
    "        inc = abs(random.gauss(mu=30, sigma=20)) # (make absolute so no one is negative age)\n",
    "        pop_age.append( pm.Poisson(name=\"age\"+str(i), mu=age) )\n",
    "        pop_inc.append( pm.Poisson(name=\"inc\"+str(i), mu=inc) )\n",
    "        pop_sex.append( pm.Bernoulli(name=\"sex\"+str(i), p=0.5) )"
   ]
  },
  {
   "cell_type": "markdown",
   "metadata": {},
   "source": [
    "The population is defined by a series of probability distributions, one for each of the characteristics of the individuals"
   ]
  },
  {
   "cell_type": "code",
   "execution_count": 101,
   "metadata": {},
   "outputs": [],
   "source": [
    "N = 100 # The number of individuals we're going to create\n",
    "a = np.arange(N) # A list of indixces (0, 1, ..., N)\n",
    "\n",
    "# All distributions etc. need to be defined within the context of a pymc model\n",
    "model = pm.Model()\n",
    "\n",
    "with model:\n",
    "    # Individual age is represented using a poisson distribution with the lambda parameter representing the \n",
    "    # expected age of the person.\n",
    "    # The lambda parameter is itself represented with a poisson distribution (assume mean age is 30 for now)\n",
    "    # We want to find good values for those parameters ... \n",
    "    # (shape creates N different distributions; one for each individual)\n",
    "    pop_age_param = pm.Poisson(\"age_param\", mu=30, shape=N)\n",
    "    pop_age = pm.Poisson(\"age\", mu=pop_age_param, shape=N)\n",
    "\n",
    "    # Income is also poisson. Assume the expected income is 25k\n",
    "    pop_inc_param = pm.Poisson(\"inc_param\", mu=25, shape=N)\n",
    "    pop_inc = pm.Poisson(\"inc\", mu=pop_inc_param, shape=N)\n",
    "\n",
    "    # Assume sex is either male or female, so represent with a Bernouilli distribution\n",
    "    pop_sex = pm.Bernoulli(\"sex\", p = 0.5, shape=N)"
   ]
  },
  {
   "cell_type": "markdown",
   "metadata": {},
   "source": [
    "## Interrogate the (prior) population\n",
    "\n",
    "Lets have a look at the population priors; before observing any real data."
   ]
  },
  {
   "cell_type": "code",
   "execution_count": 102,
   "metadata": {},
   "outputs": [
    {
     "name": "stdout",
     "output_type": "stream",
     "text": [
      "Ages: ['30', '30', '30', '30', '30', '30', '30', '30', '30', '30', '30', '30', '30', '30', '30', '30', '30', '30', '30', '30', '30', '30', '30', '30', '30', '30', '30', '30', '30', '30', '30', '30', '30', '30', '30', '30', '30', '30', '30', '30', '30', '30', '30', '30', '30', '30', '30', '30', '30', '30', '30', '30', '30', '30', '30', '30', '30', '30', '30', '30', '30', '30', '30', '30', '30', '30', '30', '30', '30', '30', '30', '30', '30', '30', '30', '30', '30', '30', '30', '30', '30', '30', '30', '30', '30', '30', '30', '30', '30', '30', '30', '30', '30', '30', '30', '30', '30', '30', '30', '30']\n",
      "Incomes: ['25', '25', '25', '25', '25', '25', '25', '25', '25', '25', '25', '25', '25', '25', '25', '25', '25', '25', '25', '25', '25', '25', '25', '25', '25', '25', '25', '25', '25', '25', '25', '25', '25', '25', '25', '25', '25', '25', '25', '25', '25', '25', '25', '25', '25', '25', '25', '25', '25', '25', '25', '25', '25', '25', '25', '25', '25', '25', '25', '25', '25', '25', '25', '25', '25', '25', '25', '25', '25', '25', '25', '25', '25', '25', '25', '25', '25', '25', '25', '25', '25', '25', '25', '25', '25', '25', '25', '25', '25', '25', '25', '25', '25', '25', '25', '25', '25', '25', '25', '25']\n",
      "Sexes: ['0', '0', '0', '0', '0', '0', '0', '0', '0', '0', '0', '0', '0', '0', '0', '0', '0', '0', '0', '0', '0', '0', '0', '0', '0', '0', '0', '0', '0', '0', '0', '0', '0', '0', '0', '0', '0', '0', '0', '0', '0', '0', '0', '0', '0', '0', '0', '0', '0', '0', '0', '0', '0', '0', '0', '0', '0', '0', '0', '0', '0', '0', '0', '0', '0', '0', '0', '0', '0', '0', '0', '0', '0', '0', '0', '0', '0', '0', '0', '0', '0', '0', '0', '0', '0', '0', '0', '0', '0', '0', '0', '0', '0', '0', '0', '0', '0', '0', '0', '0']\n"
     ]
    }
   ],
   "source": [
    "# Initial values ('test_value')\n",
    "with model:\n",
    "    print(\"Ages: \" +    str([ str(pop_age[i].tag.test_value) for i in a ] ) )\n",
    "    print(\"Incomes: \" + str([ str(pop_inc[i].tag.test_value) for i in a ] ) )\n",
    "    print(\"Sexes: \" +   str([ str(pop_sex[i].tag.test_value) for i in a ] ) )\n",
    "#with model:\n",
    "    #print(\"Ages: \" +    str([ x.tag.test_value for x in pop_age ] ) )\n",
    "    #print(\"Incomes: \" + str([ x.tag.test_value for x in pop_inc ] ) )\n",
    "    #print(\"Sexes: \" +   str([ x.tag.test_value for x in pop_sex ] ) )"
   ]
  },
  {
   "cell_type": "markdown",
   "metadata": {},
   "source": [
    "Now lets observe some 'real' data (an age, income, sex table) ... "
   ]
  },
  {
   "cell_type": "code",
   "execution_count": null,
   "metadata": {},
   "outputs": [],
   "source": []
  },
  {
   "cell_type": "code",
   "execution_count": null,
   "metadata": {},
   "outputs": [],
   "source": []
  },
  {
   "cell_type": "code",
   "execution_count": 1,
   "metadata": {},
   "outputs": [],
   "source": []
  },
  {
   "cell_type": "code",
   "execution_count": 2,
   "metadata": {},
   "outputs": [
    {
     "data": {
      "text/latex": [
       "$\\text{x} \\sim \\text{Normal}(\\mathit{mu}=0,~\\mathit{sd}=1.0)$"
      ],
      "text/plain": [
       "x"
      ]
     },
     "execution_count": 2,
     "metadata": {},
     "output_type": "execute_result"
    }
   ],
   "source": []
  },
  {
   "cell_type": "code",
   "execution_count": null,
   "metadata": {},
   "outputs": [],
   "source": []
  }
 ],
 "metadata": {
  "kernelspec": {
   "display_name": "Python 3",
   "language": "python",
   "name": "python3"
  },
  "language_info": {
   "codemirror_mode": {
    "name": "ipython",
    "version": 3
   },
   "file_extension": ".py",
   "mimetype": "text/x-python",
   "name": "python",
   "nbconvert_exporter": "python",
   "pygments_lexer": "ipython3",
   "version": "3.7.1"
  }
 },
 "nbformat": 4,
 "nbformat_minor": 2
}
