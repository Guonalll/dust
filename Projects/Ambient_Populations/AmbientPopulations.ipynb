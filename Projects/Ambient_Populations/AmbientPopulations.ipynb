{
 "cells": [
  {
   "cell_type": "markdown",
   "metadata": {},
   "source": [
    "# Ambient Populations\n",
    "\n",
    "Some early experiments with 'ambient' population data from various sources to assess their use in COVID-19 related projects"
   ]
  },
  {
   "cell_type": "markdown",
   "metadata": {},
   "source": [
    "## Initialisation"
   ]
  },
  {
   "cell_type": "code",
   "execution_count": 35,
   "metadata": {},
   "outputs": [],
   "source": [
    "from bs4 import BeautifulSoup # requirement beautifulsoup4\n",
    "from urllib.request import (\n",
    "    urlopen, urlparse, urlunparse, urlretrieve)\n",
    "import os, os.path\n",
    "import sys\n",
    "import pandas as pd\n",
    "import numpy"
   ]
  },
  {
   "cell_type": "markdown",
   "metadata": {},
   "source": [
    "## Leeds Footfall cameras\n",
    "\n",
    "Leeds City Council run a network of 8 cameras that count the number of passers-by every hour. The data are publicly available on [Data Mill North](https://datamillnorth.org/dataset/leeds-city-centre-footfall-data).\n",
    "\n",
    "We have already done quite a lot of analysis with those data elsewhere so wont repeat that here. \n",
    "\n",
    "\n",
    "\n"
   ]
  },
  {
   "cell_type": "markdown",
   "metadata": {},
   "source": [
    "### Download\n",
    "\n",
    "Each month is reported in a different file, but it's quite easy to parse the html and get the urls for each file.\n",
    "\n",
    "The next block saves each file in the directory [./data/lcc_footfall](./data/lcc_footfall)"
   ]
  },
  {
   "cell_type": "code",
   "execution_count": null,
   "metadata": {},
   "outputs": [],
   "source": [
    "data_dir = \"./data/lcc_footfall\" # Where to save the csv files\n",
    "if not os.path.isdir(data_dir):\n",
    "    print(\"Creating data directory {}\".format(data_dir))\n",
    "    os.makedirs(data_dir)\n",
    "\n",
    "# Connect to the Data Mill North page and parse the html\n",
    "root = 'https://datamillnorth.org/dataset/leeds-city-centre-footfall-data'\n",
    "soup = BeautifulSoup(urlopen(root), 'html.parser')\n",
    "\n",
    "# Iterate over all links and see which are csv files\n",
    "for link in soup.find_all('a'):\n",
    "    #print(\"\\n****\",link,\"****\\n\")\n",
    "    url = link.get('href')\n",
    "    if url==None: # if no 'href' tag\n",
    "        continue\n",
    "    \n",
    "    if url.endswith(\".csv\"):\n",
    "        filename = url.strip().split(\"/\")[-1] # File is last part of the url\n",
    "        \n",
    "        # For some reason some files are duplicated\n",
    "        if filename.startswith(\"Copy\") or filename.startswith(\"copy\"): \n",
    "            continue\n",
    "        # And we don't care about xmas analysis\n",
    "        if filename.startswith(\"Christ\"):\n",
    "            continue\n",
    "        \n",
    "        # Save the csv file (unless it already exists already)\n",
    "        full_path = os.path.join(\"./data/lcc_footfall\",filename)\n",
    "        if os.path.isfile(full_path):\n",
    "            print(\"File {} exists already, not downloading\".format(filename))\n",
    "        else:\n",
    "            print(\"Downloading {}\".format(filename)) \n",
    "            csv_url = \"https://datamillnorth.org/\"+url\n",
    "            data = pd.read_csv(csv_url)\n",
    "            data.to_csv(full_path)\n"
   ]
  },
  {
   "cell_type": "code",
   "execution_count": null,
   "metadata": {},
   "outputs": [],
   "source": [
    "https://datamillnorth.org/download/leeds-city-centre-footfall-data/98a2a356-6ea4-48ff-ac50-8b12d46aed6c/Mar%202020.csv"
   ]
  },
  {
   "cell_type": "code",
   "execution_count": null,
   "metadata": {},
   "outputs": [],
   "source": []
  },
  {
   "cell_type": "code",
   "execution_count": null,
   "metadata": {},
   "outputs": [],
   "source": []
  },
  {
   "cell_type": "code",
   "execution_count": null,
   "metadata": {},
   "outputs": [],
   "source": []
  },
  {
   "cell_type": "markdown",
   "metadata": {},
   "source": [
    "## Newcastle Urban Observatory"
   ]
  },
  {
   "cell_type": "markdown",
   "metadata": {},
   "source": [
    "## Twitter\n"
   ]
  }
 ],
 "metadata": {
  "kernelspec": {
   "display_name": "Python 3",
   "language": "python",
   "name": "python3"
  },
  "language_info": {
   "codemirror_mode": {
    "name": "ipython",
    "version": 3
   },
   "file_extension": ".py",
   "mimetype": "text/x-python",
   "name": "python",
   "nbconvert_exporter": "python",
   "pygments_lexer": "ipython3",
   "version": "3.7.4"
  }
 },
 "nbformat": 4,
 "nbformat_minor": 4
}
