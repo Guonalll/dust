{
 "cells": [
  {
   "cell_type": "markdown",
   "metadata": {},
   "source": [
    "# This notebook implements Random Forest Regression for the data from a Social Force Model.\n",
    "The data must be located in the data folder\n"
   ]
  },
  {
   "cell_type": "code",
   "execution_count": 1,
   "metadata": {
    "pycharm": {
     "is_executing": false
    }
   },
   "outputs": [
    {
     "name": "stdout",
     "output_type": "stream",
     "text": [
      "checked\n"
     ]
    }
   ],
   "source": [
    "import os\n",
    "import numpy as np\n",
    "np.set_printoptions(formatter={'float': lambda x: \"{0:0.3f}\".format(x)})\n",
    "import matplotlib.pyplot as plt\n",
    "#import gp_emulator\n",
    "os.chdir(\"/Users/MinhKieu/Documents/Research/Emulator_ABM\")  #Mac\n",
    "print(\"checked\")"
   ]
  },
  {
   "cell_type": "code",
   "execution_count": 2,
   "metadata": {
    "pycharm": {
     "is_executing": false
    }
   },
   "outputs": [],
   "source": [
    "# define RMSE\n",
    "def rmse(dataset1, dataset2, ignore=None):\n",
    "\n",
    "   # Make sure that the provided data sets are numpy ndarrays, if not\n",
    "   # convert them and flatten te data sets for analysis\n",
    "   if type(dataset1).__module__ != np.__name__:\n",
    "      d1 = np.asarray(dataset1).flatten()\n",
    "   else:\n",
    "      d1 = dataset1.flatten()\n",
    "\n",
    "   if type(dataset2).__module__ != np.__name__:\n",
    "      d2 = np.asarray(dataset2).flatten()\n",
    "   else:\n",
    "      d2 = dataset2.flatten()\n",
    "\n",
    "   # Make sure that the provided data sets are the same size\n",
    "   if d1.size != d2.size:\n",
    "      raise ValueError('Provided datasets must have the same size/shape')\n",
    "\n",
    "   # Check if the provided data sets are identical, and if so, return 0\n",
    "   # for the root-mean-squared error\n",
    "   if np.array_equal(d1, d2):\n",
    "      return 0\n",
    "\n",
    "   # If specified, remove the values to ignore from the analysis and compute\n",
    "   # the element-wise difference between the data sets\n",
    "   if ignore is not None:\n",
    "      index = np.intersect1d(np.where(d1 != ignore)[0], \n",
    "                                np.where(d2 != ignore)[0])\n",
    "      error = d1[index].astype(np.float64) - d2[index].astype(np.float64)\n",
    "   else:\n",
    "      error = d1.astype(np.float64) - d2.astype(np.float64)\n",
    "\n",
    "   # Compute the mean-squared error\n",
    "   meanSquaredError = np.sum(error**2) / error.size\n",
    "\n",
    "   # Return the root of the mean-square error\n",
    "   return np.sqrt(meanSquaredError)"
   ]
  },
  {
   "cell_type": "code",
   "execution_count": 3,
   "metadata": {
    "pycharm": {
     "is_executing": false
    }
   },
   "outputs": [],
   "source": [
    "def mape(y_true, y_pred): \n",
    "    y_true, y_pred = np.array(y_true), np.array(y_pred)\n",
    "    return np.mean(np.abs((y_true - y_pred) / y_true)) * 100"
   ]
  },
  {
   "cell_type": "markdown",
   "metadata": {},
   "source": [
    "## Narrow corridor, Stable demand, Train on Demand = 2,4,6pedestrian/2s, then test on Demand = 2,3,4,5,6,7 pedestrian/2s\n",
    "\n",
    "### Mid term prediction: We take the counts when time = 120s, then predict the final crowding at the end of the period\n",
    "\n",
    "We train the Emulator with data where demand = 1,2,3 ped/s\n",
    "\n",
    "And then we give a new data when demand = 1, 1.5, 2, 2.5, 3, 3.5 for testing\n",
    "\n",
    "\n"
   ]
  },
  {
   "cell_type": "code",
   "execution_count": 4,
   "metadata": {
    "pycharm": {
     "is_executing": false
    }
   },
   "outputs": [],
   "source": [
    "#load simulated training data:\n",
    "data = np.genfromtxt('./data/agg-1-3-5.csv', delimiter=',')\n",
    "#data = data[data[:,0]>100]\n",
    "#x: Time, count_gate x 9 (10 columns)\n",
    "#y: mean_speed,std_speed,mean_xforce,std_xforce  (4 columns)\n"
   ]
  },
  {
   "cell_type": "code",
   "execution_count": 5,
   "metadata": {},
   "outputs": [],
   "source": [
    "def create_average(y_train):\n",
    "    y_train_final = list()\n",
    "    #creates array for average values\n",
    "    for i,d in enumerate(y_train):\n",
    "        if ((i+1) % 3) == 0:\n",
    "            #print(i)\n",
    "            avg_y_train = np.mean(y_train[i - 2:(i+1)])\n",
    "            if np.isnan(avg_y_train):\n",
    "                print(y_train[i - 3:i])\n",
    "            #print(avg_y_train)\n",
    "            y_train_final.append(avg_y_train)\n",
    "    return y_train_final"
   ]
  },
  {
   "cell_type": "code",
   "execution_count": 6,
   "metadata": {},
   "outputs": [
    {
     "name": "stdout",
     "output_type": "stream",
     "text": [
      "[0.12366666666666666, 0.16666666666666666, 0.17166666666666666, 0.050333333333333334, 0.11599999999999999, 0.05033333333333334, 0.12033333333333333, 0.044333333333333336, 0.16933333333333334]\n"
     ]
    }
   ],
   "source": [
    "## process data to make predictions: X= Xt, Y = [Speed,Social Force]\n",
    "x_train = data[data[:,0]==60,]\n",
    "x_train = x_train[:,(1,3,5,7,9,11,13,15,17)]\n",
    "\n",
    "y_train=(data[data[:,0]>240,19])\n",
    "\n",
    "y_train_final = create_average(y_train)\n",
    "\n",
    "print(y_train_final)\n",
    "#print(y_test[:5])"
   ]
  },
  {
   "cell_type": "code",
   "execution_count": 7,
   "metadata": {},
   "outputs": [
    {
     "name": "stdout",
     "output_type": "stream",
     "text": [
      "[[48.000 47.000 49.000 46.000 48.000 43.000 39.000 26.000 24.000]\n",
      " [79.000 74.000 75.000 78.000 77.000 74.000 56.000 46.000 35.000]\n",
      " [76.000 81.000 78.000 79.000 73.000 79.000 70.000 45.000 30.000]\n",
      " [15.000 12.000 17.000 14.000 14.000 14.000 16.000 15.000 10.000]\n",
      " [48.000 45.000 44.000 53.000 40.000 52.000 40.000 27.000 21.000]\n",
      " [16.000 17.000 16.000 20.000 18.000 15.000 12.000 9.000 6.000]\n",
      " [45.000 46.000 48.000 37.000 38.000 41.000 42.000 28.000 25.000]\n",
      " [15.000 15.000 16.000 14.000 9.000 15.000 17.000 14.000 8.000]\n",
      " [80.000 79.000 76.000 78.000 75.000 80.000 81.000 51.000 21.000]]\n",
      "[0.121 0.117 0.133 0.166 0.176 0.158 0.169 0.177 0.169 0.052 0.052 0.047\n",
      " 0.112 0.116 0.120 0.058 0.048 0.045 0.112 0.121 0.128 0.050 0.050 0.033\n",
      " 0.164 0.162 0.182]\n"
     ]
    }
   ],
   "source": [
    "print(x_train)\n",
    "print(y_train)"
   ]
  },
  {
   "cell_type": "code",
   "execution_count": 8,
   "metadata": {},
   "outputs": [],
   "source": [
    "# Feature Scaling\n",
    "from sklearn.preprocessing import StandardScaler\n",
    "\n",
    "sc = StandardScaler()\n",
    "#sc.fit(X_train)\n",
    "#X_train = sc.transform(x_train)\n",
    "X_train = sc.fit_transform(x_train)"
   ]
  },
  {
   "cell_type": "code",
   "execution_count": 9,
   "metadata": {},
   "outputs": [
    {
     "data": {
      "text/plain": [
       "RandomForestRegressor(bootstrap=True, criterion='mse', max_depth=None,\n",
       "                      max_features='auto', max_leaf_nodes=None,\n",
       "                      min_impurity_decrease=0.0, min_impurity_split=None,\n",
       "                      min_samples_leaf=1, min_samples_split=2,\n",
       "                      min_weight_fraction_leaf=0.0, n_estimators=500,\n",
       "                      n_jobs=None, oob_score=False, random_state=1, verbose=0,\n",
       "                      warm_start=False)"
      ]
     },
     "execution_count": 9,
     "metadata": {},
     "output_type": "execute_result"
    }
   ],
   "source": [
    "#now train a new RF model\n",
    "from sklearn.ensemble import RandomForestRegressor\n",
    "regressor = RandomForestRegressor(n_estimators=500, random_state=1)\n",
    "regressor.fit(X_train, y_train_final)"
   ]
  },
  {
   "cell_type": "code",
   "execution_count": 10,
   "metadata": {},
   "outputs": [
    {
     "name": "stdout",
     "output_type": "stream",
     "text": [
      "0.04699999999999999\n",
      "0.09299999999999999\n",
      "0.11699999999999999\n",
      "0.1386666666666667\n",
      "0.16733333333333333\n",
      "0.18866666666666668\n",
      "[0.04699999999999999, 0.09299999999999999, 0.11699999999999999, 0.1386666666666667, 0.16733333333333333, 0.18866666666666668]\n",
      "[0.05104733333333359, 0.08059466666666688, 0.1185399999999996, 0.1512006666666665, 0.16593599999999972, 0.16808799999999963]\n"
     ]
    }
   ],
   "source": [
    "# Main modelling block\n",
    "\n",
    "pred_results = list()\n",
    "y_test_list = list()\n",
    "for i in range(1,7):\n",
    "    #load testing data\n",
    "    #print(i)\n",
    "    filename = './data/val-'+ str(i) +'ped.csv'\n",
    "    #print(filename)\n",
    "    test_data = np.genfromtxt(filename, delimiter=',')\n",
    "    #print(test_data)\n",
    "    #test_data = test_data[test_data[:,0]>100]\n",
    "    #x: flow in at each `check point', or `cell': x_i^t\n",
    "    #y: mean_speed,std_speed,mean_xforce,std_xforce\n",
    "    x_test = test_data[test_data[:,0]==60,]\n",
    "    x_test = x_test[:,(1,3,5,7,9,11,13,15,17)]\n",
    "    X_test = sc.transform(x_test)\n",
    "    #print(x_test[0])\n",
    "    #x_test_list.append(x_test[0])\n",
    "    \n",
    "    #print(x_test_list)\n",
    "    y_test=np.mean(test_data[test_data[:,0]>240,19])\n",
    "    print(y_test)\n",
    "    y_test_list.append(y_test)\n",
    "    \n",
    "    y_pred= regressor.predict(X_test)\n",
    "    pred_results.append(y_pred[0])\n",
    " \n",
    "    #print(y_unc)\n",
    "    #print(y_pred)\n",
    "    #pred_results.append(y_pred)\n",
    "#print(x_test_list)\n",
    "print(y_test_list)\n",
    "print(pred_results)\n"
   ]
  },
  {
   "cell_type": "code",
   "execution_count": 11,
   "metadata": {},
   "outputs": [
    {
     "data": {
      "image/png": "[encoded data removed]",
      "text/plain": [
       "<Figure size 432x288 with 1 Axes>"
      ]
     },
     "metadata": {
      "needs_background": "light"
     },
     "output_type": "display_data"
    }
   ],
   "source": [
    "\n",
    "# Plot predicted MPG without error bars\n",
    "from matplotlib.lines import Line2D\n",
    "\n",
    "legend_elements = [Line2D([0], [0], marker='o', color='None', label='In-sample Prediction',\n",
    "                          markerfacecolor='b', markersize=10),\n",
    "                   Line2D([0], [0], marker='o', color='None', label='Out-of-sample Prediction',\n",
    "                          markerfacecolor='r', markersize=10)]\n",
    "\n",
    "y = ['b','r','b','r','b','r']\n",
    "\n",
    "plt.scatter(y_test_list, pred_results, c=y, s=50)\n",
    "plt.legend(handles=legend_elements, loc='lower right')\n",
    "plt.plot([0, 0.3], [0, 0.3], 'k--')\n",
    "plt.xlabel('Synthetic Social Force')\n",
    "plt.ylabel('Predicted Mid-term Social Force')\n",
    "#plt.savefig('NHPP_aggregated_same.pdf')\n",
    "plt.savefig('Figures/Mid-term-prediction-RF.pdf')\n",
    "plt.show()\n"
   ]
  },
  {
   "cell_type": "code",
   "execution_count": 12,
   "metadata": {},
   "outputs": [
    {
     "name": "stdout",
     "output_type": "stream",
     "text": [
      "Mean Absolute Percentage Error: 7.341346249612765\n",
      "Root Mean Squared Error: 0.011218883043366748\n"
     ]
    }
   ],
   "source": [
    "#print('Mean Absolute Percentage Error:', mape(pred_results,y_test_list))\n",
    "print('Mean Absolute Percentage Error:', mape(y_test_list,pred_results))\n",
    "print('Root Mean Squared Error:', rmse(pred_results,y_test_list))"
   ]
  },
  {
   "cell_type": "markdown",
   "metadata": {},
   "source": [
    "## Narrow corridor, Stable demand, Train on Demand = 2,4,6pedestrian/2s, then test on Demand = 2,3,4,5,6,7 pedestrian/2s\n",
    "\n",
    "Short-term prediction: We try to predict the next minute\n",
    "\n",
    "The demand keeps changing over time\n",
    "\n"
   ]
  },
  {
   "cell_type": "code",
   "execution_count": 13,
   "metadata": {},
   "outputs": [],
   "source": [
    "minT = 45\n",
    "maxT = 285\n",
    "timeStep = 15\n",
    "\n",
    "#load simulated training data: #switch better same and narrow experiment\n",
    "data = np.genfromtxt('./data/agg-1-3-5.csv', delimiter=',')\n",
    "data = data[data[:,0]>minT]\n",
    "#x: Time, count_gate x 9 (10 columns)\n",
    "#y: mean_speed,std_speed,mean_xforce,std_xforce  (4 columns)"
   ]
  },
  {
   "cell_type": "code",
   "execution_count": 14,
   "metadata": {},
   "outputs": [],
   "source": [
    "## process data to make predictions: X= Xt, Y = [Speed,Social Force]\n",
    "x_train = data[:-1,(0,1,3,5,7,9,11,13,15,17)]\n",
    "\n",
    "y_train=data[1:,19]\n"
   ]
  },
  {
   "cell_type": "code",
   "execution_count": 15,
   "metadata": {},
   "outputs": [],
   "source": [
    "# Feature Scaling\n",
    "from sklearn.preprocessing import StandardScaler\n",
    "\n",
    "sc = StandardScaler()\n",
    "#sc.fit(X_train)\n",
    "#X_train = sc.transform(x_train)\n",
    "X_train = sc.fit_transform(x_train)"
   ]
  },
  {
   "cell_type": "code",
   "execution_count": 16,
   "metadata": {},
   "outputs": [
    {
     "data": {
      "text/plain": [
       "RandomForestRegressor(bootstrap=True, criterion='mse', max_depth=None,\n",
       "                      max_features='auto', max_leaf_nodes=None,\n",
       "                      min_impurity_decrease=0.0, min_impurity_split=None,\n",
       "                      min_samples_leaf=1, min_samples_split=2,\n",
       "                      min_weight_fraction_leaf=0.0, n_estimators=500,\n",
       "                      n_jobs=None, oob_score=False, random_state=1, verbose=0,\n",
       "                      warm_start=False)"
      ]
     },
     "execution_count": 16,
     "metadata": {},
     "output_type": "execute_result"
    }
   ],
   "source": [
    "#now train a new RF model\n",
    "from sklearn.ensemble import RandomForestRegressor\n",
    "regressor = RandomForestRegressor(n_estimators=500, random_state=1)\n",
    "regressor.fit(X_train, y_train)"
   ]
  },
  {
   "cell_type": "code",
   "execution_count": 18,
   "metadata": {},
   "outputs": [
    {
     "data": {
      "image/png": "[encoded data removed]",
      "text/plain": [
       "<Figure size 720x432 with 15 Axes>"
      ]
     },
     "metadata": {},
     "output_type": "display_data"
    }
   ],
   "source": [
    "\n",
    "# Main modelling block\n",
    "fig, axs = plt.subplots(5,3, figsize=(10, 6), facecolor='w', edgecolor='k')\n",
    "fig.subplots_adjust(hspace = .3, wspace=.2)\n",
    "\n",
    "axs = axs.ravel()\n",
    "\n",
    "#import forestci as fci\n",
    "pred_results = list()\n",
    "y_test_list = list()\n",
    "X_train_list = []\n",
    "X_test_list = []\n",
    "for i in range(1,16):\n",
    "    #load testing data\n",
    "    #print(i)\n",
    "    filename = './data/val-'+ str(i) +'ped.csv'\n",
    "    #print(filename)\n",
    "    test_data = np.genfromtxt(filename, delimiter=',')\n",
    "    #print(test_data)\n",
    "    test_data = test_data[test_data[:,0]>minT]\n",
    "    #x: flow in at each `check point', or `cell': x_i^t\n",
    "    #y: mean_speed,std_speed,mean_xforce,std_xforce\n",
    "    x_test = test_data[:-1,(0,1,3,5,7,9,11,13,15,17)]\n",
    "    X_test = sc.transform(x_test)\n",
    "    y_test=test_data[1:,19]\n",
    "    \n",
    "    #make predictions using the trained model\n",
    "    y_pred = regressor.predict(X_test)\n",
    "    axs[i-1].plot(range(minT+timeStep,maxT,timeStep),y_test,'k-',label='Testing data')\n",
    "    axs[i-1].set_title('Demand='+ str(i))\n",
    "    \n",
    "    if (i<13):\n",
    "        axs[i-1].get_xaxis().set_visible(False)\n",
    "    if (i==1):\n",
    "        #axs[i-1].set_ylim(-0.1, 0.1)\n",
    "        axs[i-1].plot(range(minT+timeStep,maxT,timeStep),y_pred,'b-.',label='In-sample ')\n",
    "        legend = axs[i-1].legend(loc='upper right')        \n",
    "    if (i==2):\n",
    "        #axs[i-1].set_ylim(-0.1, 0.1)\n",
    "        axs[i-1].plot(range(minT+timeStep,maxT,timeStep),y_pred,'r--',label='Out-of-sample ')\n",
    "        legend = axs[i-1].legend(loc='upper right')\n",
    "    if (i==3):\n",
    "        #axs[i-1].set_ylim(-0.1, 0.1)\n",
    "        axs[i-1].plot(range(minT+timeStep,maxT,timeStep),y_pred,'b-.',label='In-sample ')\n",
    "    if (i==4):\n",
    "        #axs[i-1].set_ylim(-0.1, 0.1)\n",
    "        axs[i-1].plot(range(minT+timeStep,maxT,timeStep),y_pred,'r--',label='Out-of-sample ')\n",
    "        #legend = axs[i-1].legend(loc='lower right')\n",
    "    if (i==5):\n",
    "        #axs[i-1].set_ylim(-0.1, 0.1)\n",
    "        axs[i-1].plot(range(minT+timeStep,maxT,timeStep),y_pred,'b-.',label='In-sample ')\n",
    "    if (i==6):\n",
    "        #axs[i-1].set_ylim(-0.1, 0.1)\n",
    "        axs[i-1].plot(range(minT+timeStep,maxT,timeStep),y_pred,'r--',label='Out-of-sample ')\n",
    "    if (i==7):\n",
    "        #axs[i-1].set_ylim(-0.1, 0.1)\n",
    "        axs[i-1].plot(range(minT+timeStep,maxT,timeStep),y_pred,'r--',label='Out-of-sample ')\n",
    "        axs[i-1].set_ylabel('Social force')\n",
    "    if (i>=8):\n",
    "        #axs[i-1].set_ylim(-0.1, 0.1)\n",
    "        axs[i-1].plot(range(minT+timeStep,maxT,timeStep),y_pred,'r--',label='Out-of-sample ')\n",
    "        \n",
    "    if (i==14):\n",
    "        axs[i-1].set_xlabel('Time (s)')\n",
    "                \n",
    "    axs[i-1].set_ylim(0, 0.4)\n",
    "    #Save to the overall storage\n",
    "    pred_results.append(y_pred)\n",
    "    y_test_list.append(y_test)\n",
    "\n",
    "pred_results=np.hstack(pred_results)\n",
    "y_test_list=np.hstack(y_test_list)\n",
    "\n",
    "plt.savefig('Figures/Short-term-prediction-RF.pdf')\n",
    "plt.show()    \n",
    "#print(pred_results)\n",
    "#print(y_test_list)"
   ]
  },
  {
   "cell_type": "code",
   "execution_count": 90,
   "metadata": {},
   "outputs": [
    {
     "name": "stdout",
     "output_type": "stream",
     "text": [
      "Mean Absolute Percentage Error: 36.1732827397185\n",
      "Root Mean Squared Error: 0.8411469377486147\n"
     ]
    }
   ],
   "source": [
    "#print('Mean Absolute Percentage Error:', mape(pred_results,y_test_list))\n",
    "print('Mean Absolute Percentage Error:', mape(y_test_list,pred_results))\n",
    "print('Root Mean Squared Error:', rmse(pred_results,y_test_list))"
   ]
  },
  {
   "cell_type": "markdown",
   "metadata": {},
   "source": [
    "### SCATTER PLOT!\n",
    "#### Narrow corridor, Stable demand, Train on Demand = 2,4,6pedestrian/2s, then test on Demand = 2,3,4,5,6,7 pedestrian/2s \n",
    "\n",
    "Multiple Outputs: Social Force at each cell\n",
    "\n",
    "Short-term prediction: We try to predict the next minute\n",
    "\n",
    "Take some blocks from above, the difference is only at the main modelling block\n"
   ]
  },
  {
   "cell_type": "code",
   "execution_count": 92,
   "metadata": {},
   "outputs": [],
   "source": [
    "# Main modelling block\n",
    "\n",
    "#import forestci as fci\n",
    "pred_results_SEEN = []\n",
    "y_test_list_SEEN = []\n",
    "for i in range(2,8,2):\n",
    "    #load testing data\n",
    "    #print(i)\n",
    "    filename = './data/val-'+ str(i) +'ped.csv'\n",
    "    #print(filename)\n",
    "    test_data = np.genfromtxt(filename, delimiter=',')\n",
    "    #print(test_data)\n",
    "    test_data = test_data[test_data[:,0]>100]\n",
    "    #x: flow in at each `check point', or `cell': x_i^t\n",
    "    #y: mean_speed,std_speed,mean_xforce,std_xforce\n",
    "    x_test = test_data[:-1,(0,1,3,5,7,9,11,13,15,17)]\n",
    "    X_test = sc.transform(x_test)\n",
    "    y_test=test_data[1:,19]\n",
    "    \n",
    "    #make predictions using the trained model\n",
    "    y_pred = regressor.predict(X_test)\n",
    "\n",
    "    #Save to the overall storage\n",
    "    pred_results_SEEN.append(y_pred)\n",
    "    y_test_list_SEEN.append(y_test) \n",
    "    "
   ]
  },
  {
   "cell_type": "code",
   "execution_count": 93,
   "metadata": {},
   "outputs": [
    {
     "data": {
      "image/png": "[encoded data removed]",
      "text/plain": [
       "<Figure size 432x288 with 1 Axes>"
      ]
     },
     "metadata": {
      "needs_background": "light"
     },
     "output_type": "display_data"
    }
   ],
   "source": [
    "# Plot predicted MPG without error bars\n",
    "plt.scatter(y_test_list, pred_results,c='red',label='Out-of-sample prediction')\n",
    "\n",
    "plt.scatter(y_test_list_SEEN, pred_results_SEEN,c='black',label='In-sample prediction')\n",
    "\n",
    "\n",
    "plt.plot([0, 15], [0, 15], 'k--')\n",
    "plt.legend(loc='lower right')\n",
    "plt.xlabel('Synthetic Social Force')\n",
    "plt.ylabel('Predicted Short-term Social Force')\n",
    "#plt.savefig('NHPP_aggregated_same.pdf')\n",
    "plt.savefig('Figures/Short-term-prediction-RF-scatterplot.pdf')\n",
    "plt.show()"
   ]
  }
 ],
 "metadata": {
  "kernelspec": {
   "display_name": "Python 3",
   "language": "python",
   "name": "python3"
  },
  "language_info": {
   "codemirror_mode": {
    "name": "ipython",
    "version": 3
   },
   "file_extension": ".py",
   "mimetype": "text/x-python",
   "name": "python",
   "nbconvert_exporter": "python",
   "pygments_lexer": "ipython3",
   "version": "3.7.4"
  },
  "pycharm": {
   "stem_cell": {
    "cell_type": "raw",
    "metadata": {
     "collapsed": false
    },
    "source": []
   }
  }
 },
 "nbformat": 4,
 "nbformat_minor": 4
}
